{
 "cells": [
  {
   "cell_type": "code",
   "execution_count": 1,
   "metadata": {},
   "outputs": [],
   "source": [
    "import os\n",
    "os.chdir('../')\n",
    "\n",
    "import src.dataloader as dl\n",
    "from src.preprocess import *\n",
    "from src.single_factor import SingleFactorTester\n",
    "from src.utils import *"
   ]
  },
  {
   "cell_type": "code",
   "execution_count": 2,
   "metadata": {},
   "outputs": [
    {
     "name": "stderr",
     "output_type": "stream",
     "text": [
      "D:\\conda\\envs\\multifactor\\lib\\site-packages\\rqdatac\\client.py:236: UserWarning: Your account will be expired after  80 days. Please call us at 0755-22676337 to upgrade or purchase or renew your contract.\n",
      "  warnings.warn(\"Your account will be expired after  {} days. \"\n"
     ]
    },
    {
     "name": "stdout",
     "output_type": "stream",
     "text": [
      "Function 'load_basic_info' executed in 6.8883s\n"
     ]
    }
   ],
   "source": [
    "dl.rq_initialize()\n",
    "df_basic = dl.load_basic_info()\n",
    "df_indus_mapping = dl.load_industry_mapping()"
   ]
  },
  {
   "cell_type": "code",
   "execution_count": 3,
   "metadata": {},
   "outputs": [
    {
     "name": "stdout",
     "output_type": "stream",
     "text": [
      "Function '__init__' executed in 0.4870s\n",
      "Function 'preprocess' executed in 2.5930s\n",
      "Function 'filter_dates' executed in 0.9840s\n",
      "Function 'filter_stocks' executed in 4.4110s\n",
      "Function 'postprocess' executed in 0.5430s\n",
      "['./data/factor\\\\value\\\\pe_ratio_ttm.h5']\n",
      "Function 'add_factors' executed in 11.9584s\n",
      "Function 'standardize_factors' executed in 4.3876s\n"
     ]
    }
   ],
   "source": [
    "# Preprocess\n",
    "filter = TimeAndStockFilter(df_basic)\n",
    "df_test = filter.run()\n",
    "\n",
    "df_test = df_test.merge(df_indus_mapping['pri_indus_code'], how='left', left_on='stock', right_index=True)\n",
    "\n",
    "df_test = add_factors(df_test, {'value': ['pe_ratio_ttm']})\n",
    "df_test = standardize_factors(df_test, ['pe_ratio_ttm'])"
   ]
  },
  {
   "cell_type": "code",
   "execution_count": 4,
   "metadata": {},
   "outputs": [
    {
     "data": {
      "text/html": [
       "<div>\n",
       "<style scoped>\n",
       "    .dataframe tbody tr th:only-of-type {\n",
       "        vertical-align: middle;\n",
       "    }\n",
       "\n",
       "    .dataframe tbody tr th {\n",
       "        vertical-align: top;\n",
       "    }\n",
       "\n",
       "    .dataframe thead th {\n",
       "        text-align: right;\n",
       "    }\n",
       "</style>\n",
       "<table border=\"1\" class=\"dataframe\">\n",
       "  <thead>\n",
       "    <tr style=\"text-align: right;\">\n",
       "      <th></th>\n",
       "      <th>value</th>\n",
       "    </tr>\n",
       "  </thead>\n",
       "  <tbody>\n",
       "    <tr>\n",
       "      <th>t值序列绝对值平均值</th>\n",
       "      <td>3.413026</td>\n",
       "    </tr>\n",
       "    <tr>\n",
       "      <th>t 值序列绝对值大于 2 的占比</th>\n",
       "      <td>0.638655</td>\n",
       "    </tr>\n",
       "    <tr>\n",
       "      <th>t 值序列均值的绝对值除以 t 值序列的标准差</th>\n",
       "      <td>-0.030620</td>\n",
       "    </tr>\n",
       "    <tr>\n",
       "      <th>因子收益率序列平均值</th>\n",
       "      <td>0.001674</td>\n",
       "    </tr>\n",
       "    <tr>\n",
       "      <th>因子收益率均值零假设检验的 t 值</th>\n",
       "      <td>0.193117</td>\n",
       "    </tr>\n",
       "  </tbody>\n",
       "</table>\n",
       "</div>"
      ],
      "text/plain": [
       "                            value\n",
       "t值序列绝对值平均值               3.413026\n",
       "t 值序列绝对值大于 2 的占比         0.638655\n",
       "t 值序列均值的绝对值除以 t 值序列的标准差 -0.030620\n",
       "因子收益率序列平均值               0.001674\n",
       "因子收益率均值零假设检验的 t 值        0.193117"
      ]
     },
     "execution_count": 4,
     "metadata": {},
     "output_type": "execute_result"
    }
   ],
   "source": [
    "tester = SingleFactorTester(df_test)\n",
    "tester.t_value_test(\"pe_ratio_ttm\")"
   ]
  },
  {
   "cell_type": "code",
   "execution_count": 5,
   "metadata": {},
   "outputs": [
    {
     "name": "stdout",
     "output_type": "stream",
     "text": [
      "IC 均值: -0.0204\n",
      "IC 标准差: 0.0886\n",
      "IR 比率: -23.02%\n",
      "IC 值序列大于零的占比: 42.86%\n"
     ]
    },
    {
     "data": {
      "image/png": "[encoded data removed]",
      "text/plain": [
       "<Figure size 432x288 with 1 Axes>"
      ]
     },
     "metadata": {
      "needs_background": "light"
     },
     "output_type": "display_data"
    }
   ],
   "source": [
    "tester.IC_test(\"pe_ratio_ttm\")"
   ]
  }
 ],
 "metadata": {
  "interpreter": {
   "hash": "d1cc3aec80772d94e94e602fdf38b221f54ed0b61cf2823d1215b225907a86c2"
  },
  "kernelspec": {
   "display_name": "Python 3.9.7 ('multifactor')",
   "language": "python",
   "name": "python3"
  },
  "language_info": {
   "codemirror_mode": {
    "name": "ipython",
    "version": 3
   },
   "file_extension": ".py",
   "mimetype": "text/x-python",
   "name": "python",
   "nbconvert_exporter": "python",
   "pygments_lexer": "ipython3",
   "version": "3.9.7"
  },
  "orig_nbformat": 4
 },
 "nbformat": 4,
 "nbformat_minor": 2
}
