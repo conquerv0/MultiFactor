{
 "cells": [
  {
   "cell_type": "code",
   "execution_count": 1,
   "metadata": {},
   "outputs": [],
   "source": [
    "from datetime import datetime, timedelta\n",
    "from Dataloader import Dataloader\n",
    "import Dataloader_ricequant as dl"
   ]
  },
  {
   "cell_type": "code",
   "execution_count": null,
   "metadata": {},
   "outputs": [],
   "source": [
    "\n",
    "DATA_PATH = './data/'\n",
    "dl.rq_initialize()\n",
    "price = dl.load_price_data()\n",
    "for factor in []:\n",
    "    dl.download_factor_data(price.columns, 'OBOS', '20201001', '20211001')     \n"
   ]
  },
  {
   "cell_type": "code",
   "execution_count": 2,
   "metadata": {},
   "outputs": [
    {
     "name": "stderr",
     "output_type": "stream",
     "text": [
      "/home/hankleliu/anaconda3/lib/python3.8/site-packages/rqdatac/client.py:236: UserWarning: Your account will be expired after  209 days. Please call us at 0755-22676337 to upgrade or purchase or renew your contract.\n",
      "  warnings.warn(\"Your account will be expired after  {} days. \"\n"
     ]
    }
   ],
   "source": [
    "dl.rq_initialize()\n",
    "dl.download_factor_data(['000001.XSHE'], 'OBOS', '20210831', '20210930')"
   ]
  },
  {
   "cell_type": "code",
   "execution_count": 3,
   "metadata": {},
   "outputs": [
    {
     "data": {
      "text/html": "<div>\n<style scoped>\n    .dataframe tbody tr th:only-of-type {\n        vertical-align: middle;\n    }\n\n    .dataframe tbody tr th {\n        vertical-align: top;\n    }\n\n    .dataframe thead th {\n        text-align: right;\n    }\n</style>\n<table border=\"1\" class=\"dataframe\">\n  <thead>\n    <tr style=\"text-align: right;\">\n      <th></th>\n      <th></th>\n      <th>OBOS</th>\n    </tr>\n    <tr>\n      <th>order_book_id</th>\n      <th>date</th>\n      <th></th>\n    </tr>\n  </thead>\n  <tbody>\n    <tr>\n      <th rowspan=\"21\" valign=\"top\">000001.XSHE</th>\n      <th>2021-08-31</th>\n      <td>-4.0</td>\n    </tr>\n    <tr>\n      <th>2021-09-01</th>\n      <td>-4.0</td>\n    </tr>\n    <tr>\n      <th>2021-09-02</th>\n      <td>-2.0</td>\n    </tr>\n    <tr>\n      <th>2021-09-03</th>\n      <td>-2.0</td>\n    </tr>\n    <tr>\n      <th>2021-09-06</th>\n      <td>0.0</td>\n    </tr>\n    <tr>\n      <th>2021-09-07</th>\n      <td>0.0</td>\n    </tr>\n    <tr>\n      <th>2021-09-08</th>\n      <td>0.0</td>\n    </tr>\n    <tr>\n      <th>2021-09-09</th>\n      <td>0.0</td>\n    </tr>\n    <tr>\n      <th>2021-09-10</th>\n      <td>2.0</td>\n    </tr>\n    <tr>\n      <th>2021-09-13</th>\n      <td>2.0</td>\n    </tr>\n    <tr>\n      <th>2021-09-14</th>\n      <td>0.0</td>\n    </tr>\n    <tr>\n      <th>2021-09-15</th>\n      <td>0.0</td>\n    </tr>\n    <tr>\n      <th>2021-09-16</th>\n      <td>-2.0</td>\n    </tr>\n    <tr>\n      <th>2021-09-17</th>\n      <td>-2.0</td>\n    </tr>\n    <tr>\n      <th>2021-09-22</th>\n      <td>-4.0</td>\n    </tr>\n    <tr>\n      <th>2021-09-23</th>\n      <td>-6.0</td>\n    </tr>\n    <tr>\n      <th>2021-09-24</th>\n      <td>-6.0</td>\n    </tr>\n    <tr>\n      <th>2021-09-27</th>\n      <td>-4.0</td>\n    </tr>\n    <tr>\n      <th>2021-09-28</th>\n      <td>-4.0</td>\n    </tr>\n    <tr>\n      <th>2021-09-29</th>\n      <td>-2.0</td>\n    </tr>\n    <tr>\n      <th>2021-09-30</th>\n      <td>-2.0</td>\n    </tr>\n  </tbody>\n</table>\n</div>",
      "text/plain": "                          OBOS\norder_book_id date            \n000001.XSHE   2021-08-31  -4.0\n              2021-09-01  -4.0\n              2021-09-02  -2.0\n              2021-09-03  -2.0\n              2021-09-06   0.0\n              2021-09-07   0.0\n              2021-09-08   0.0\n              2021-09-09   0.0\n              2021-09-10   2.0\n              2021-09-13   2.0\n              2021-09-14   0.0\n              2021-09-15   0.0\n              2021-09-16  -2.0\n              2021-09-17  -2.0\n              2021-09-22  -4.0\n              2021-09-23  -6.0\n              2021-09-24  -6.0\n              2021-09-27  -4.0\n              2021-09-28  -4.0\n              2021-09-29  -2.0\n              2021-09-30  -2.0"
     },
     "execution_count": 3,
     "metadata": {},
     "output_type": "execute_result"
    }
   ],
   "source": [
    "dl.load_factor_data('OBOS')\n",
    "# import pandas as pd\n",
    "# pd.read_hdf('OBOS.h5')"
   ]
  }
 ],
 "metadata": {
  "kernelspec": {
   "display_name": "Python 3.8.5 64-bit ('base': conda)",
   "name": "python385jvsc74a57bd02d3ff40c1f7a847257914df3a8e514cc16b6bf2a33af93f4a0ff42a1eb642741"
  },
  "language_info": {
   "codemirror_mode": {
    "name": "ipython",
    "version": 3
   },
   "file_extension": ".py",
   "mimetype": "text/x-python",
   "name": "python",
   "nbconvert_exporter": "python",
   "pygments_lexer": "ipython3",
   "version": "3.8.5"
  },
  "orig_nbformat": 3
 },
 "nbformat": 4,
 "nbformat_minor": 2
}