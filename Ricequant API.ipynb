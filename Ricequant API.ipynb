{
 "cells": [
  {
   "cell_type": "code",
   "execution_count": 15,
   "metadata": {},
   "outputs": [],
   "source": [
    "import numpy as np\n",
    "import pandas as pd\n",
    "import os\n",
    "import rqdatac as rq"
   ]
  },
  {
   "cell_type": "code",
   "execution_count": 11,
   "metadata": {},
   "outputs": [
    {
     "name": "stderr",
     "output_type": "stream",
     "text": [
      "C:\\Users\\jiyic\\anaconda3\\lib\\site-packages\\rqdatac\\client.py:236: UserWarning: Your account will be expired after  221 days. Please call us at 0755-22676337 to upgrade or purchase or renew your contract.\n",
      "  warnings.warn(\"Your account will be expired after  {} days. \"\n"
     ]
    }
   ],
   "source": [
    "rqdatac.init('license', 'QhhTnnWjN5eWgeBzXChE-d4iqymtu4-6XIBIjcO4Oh339_i0W1LifdY980vuXMEq-Zxz03HTXeItx7cK-704N0Go8i7DERQjkXQIirqt6l4ZTVJIcJbC1Vh62p5npTupQN0F9SyXTIoE1UQPacRqhHUSWHQm4yNFQW2nHffVVlY=Th4zB2-UYw5Q76xBPpPrLCKIjzpVid9Wogpi8QP9Ju8M7ZRUXzA9V6TmKCWOlCrTPBWnA8HAjEL-3hM55cAac-hzVADGoxpfV4tHA79mMsjOCREOTXzQH6rqcqUuEDuzShSWFB069fRSetK3yzgeeRdqocHmJ4ATA3a3pCcAVpA=')"
   ]
  },
  {
   "cell_type": "code",
   "execution_count": 13,
   "metadata": {},
   "outputs": [
    {
     "data": {
      "text/plain": [
       "{'bytes_used': 2160020,\n",
       " 'bytes_limit': 209715200.0,\n",
       " 'remaining_days': 221,\n",
       " 'license_type': 'TRIAL'}"
      ]
     },
     "execution_count": 13,
     "metadata": {},
     "output_type": "execute_result"
    }
   ],
   "source": [
    "rq.user.get_quota()"
   ]
  },
  {
   "cell_type": "code",
   "execution_count": 51,
   "metadata": {},
   "outputs": [],
   "source": [
    "import re \n",
    "\n",
    "stock_path = './data/stock_data/'\n",
    "stock_names = os.listdir(path=stock_path)\n",
    "\n",
    "format_stock_names = []\n",
    "for name in stock_names:\n",
    "    format_stock_names.append(name[:-4].strip().upper())"
   ]
  },
  {
   "cell_type": "code",
   "execution_count": 59,
   "metadata": {},
   "outputs": [],
   "source": [
    "def normalize_code(symbol, pre_close=None):\n",
    "    \"\"\"\n",
    "    归一化证券代码\n",
    "\n",
    "    :param code 如000001\n",
    "    :return 证券代码的全称 如000001.XSHE\n",
    "    \"\"\"\n",
    "    XSHG = 'XSHG'\n",
    "    SSE = 'XSHG'\n",
    "    SH = 'XSHG'\n",
    "    XSHE = 'XSHE'\n",
    "    SZ = 'XSHE'\n",
    "    SZE = 'XSHE'\n",
    "    if (not isinstance(symbol, str)):\n",
    "        return symbol\n",
    "\n",
    "    if (symbol.startswith('SZ') and (len(symbol) == 8)):\n",
    "        ret_normalize_code = '{}.{}'.format(symbol[2:8],SZ)\n",
    "    elif (symbol.startswith('SH') and (len(symbol) == 8)):\n",
    "        ret_normalize_code = '{}.{}'.format(symbol[2:8], SH)\n",
    "    elif (symbol.startswith('00') and (len(symbol) == 6)):\n",
    "        if ((pre_close is not None) and (pre_close > 2000)):\n",
    "            # 推断是上证指数\n",
    "            ret_normalize_code = '{}.{}'.format(symbol, SH)\n",
    "        else:\n",
    "            ret_normalize_code = '{}.{}'.format(symbol, SZ)\n",
    "    elif ((symbol.startswith('399') or symbol.startswith('159') or \\\n",
    "        symbol.startswith('150')) and (len(symbol) == 6)):\n",
    "        ret_normalize_code = '{}.{}'.format(symbol, SH)\n",
    "    elif ((len(symbol) == 6) and (symbol.startswith('399') or \\\n",
    "        symbol.startswith('159') or symbol.startswith('150') or \\\n",
    "        symbol.startswith('16') or symbol.startswith('184801') or \\\n",
    "        symbol.startswith('201872'))):\n",
    "        ret_normalize_code = '{}.{}'.format(symbol, SZ)\n",
    "    elif ((len(symbol) == 6) and (symbol.startswith('50') or \\\n",
    "        symbol.startswith('51') or symbol.startswith('60') or \\\n",
    "        symbol.startswith('688') or symbol.startswith('900') or \\\n",
    "        (symbol == '751038'))):\n",
    "        ret_normalize_code = '{}.{}'.format(symbol, SH)\n",
    "    elif ((len(symbol) == 6) and (symbol[:3] in ['000', '001', '002', \n",
    "                                                 '200', '300'])):\n",
    "        ret_normalize_code = '{}.{}'.format(symbol, SZ)\n",
    "    else:\n",
    "        print(symbol)\n",
    "        ret_normalize_code = symbol\n",
    "\n",
    "    return ret_normalize_code"
   ]
  },
  {
   "cell_type": "code",
   "execution_count": 56,
   "metadata": {},
   "outputs": [
    {
     "data": {
      "text/plain": [
       "'SH600000'"
      ]
     },
     "execution_count": 56,
     "metadata": {},
     "output_type": "execute_result"
    }
   ],
   "source": [
    "format_stock_names[0]"
   ]
  },
  {
   "cell_type": "code",
   "execution_count": 66,
   "metadata": {},
   "outputs": [
    {
     "data": {
      "text/plain": [
       "'600000.XSHG'"
      ]
     },
     "execution_count": 66,
     "metadata": {},
     "output_type": "execute_result"
    }
   ],
   "source": [
    "normalized_code = [normalize_code(name) for name in format_stock_names]\n",
    "normalized_code[0]"
   ]
  },
  {
   "cell_type": "markdown",
   "metadata": {},
   "source": [
    "Set time period = [20101231, 20201231] 十年回测\n",
    "\n",
    "默认已经去除非交易日"
   ]
  },
  {
   "cell_type": "code",
   "execution_count": 76,
   "metadata": {},
   "outputs": [
    {
     "data": {
      "text/plain": [
       "4560"
      ]
     },
     "execution_count": 76,
     "metadata": {},
     "output_type": "execute_result"
    }
   ],
   "source": [
    "len(normalized_code)"
   ]
  },
  {
   "cell_type": "code",
   "execution_count": 102,
   "metadata": {
    "scrolled": true
   },
   "outputs": [
    {
     "name": "stderr",
     "output_type": "stream",
     "text": [
      "C:\\Users\\jiyic\\anaconda3\\lib\\site-packages\\rqdatac\\validators.py:224: UserWarning: invalid order_book_id: 600849.XSHG\n",
      "  warnings.warn(\"invalid order_book_id: {}\".format(ob))\n"
     ]
    }
   ],
   "source": [
    "# 检测回测时间内是否有ST退市股票\n",
    "non_st_stock = rq.is_st_stock(normalized_code, '20100101','20201231')\n",
    "# get column values i.e. stock code sorted\n",
    "non_st_stock = non_st_stock.reindex(sorted(non_st_stock.columns), axis=1)"
   ]
  },
  {
   "cell_type": "code",
   "execution_count": 96,
   "metadata": {},
   "outputs": [
    {
     "data": {
      "text/plain": [
       "(2674, 4559)"
      ]
     },
     "execution_count": 96,
     "metadata": {},
     "output_type": "execute_result"
    }
   ],
   "source": [
    "non_st_stock.shape"
   ]
  },
  {
   "cell_type": "code",
   "execution_count": 103,
   "metadata": {},
   "outputs": [],
   "source": [
    "count = non_st_stock.apply(pd.value_counts)"
   ]
  },
  {
   "cell_type": "code",
   "execution_count": 104,
   "metadata": {},
   "outputs": [
    {
     "data": {
      "text/html": [
       "<div>\n",
       "<style scoped>\n",
       "    .dataframe tbody tr th:only-of-type {\n",
       "        vertical-align: middle;\n",
       "    }\n",
       "\n",
       "    .dataframe tbody tr th {\n",
       "        vertical-align: top;\n",
       "    }\n",
       "\n",
       "    .dataframe thead th {\n",
       "        text-align: right;\n",
       "    }\n",
       "</style>\n",
       "<table border=\"1\" class=\"dataframe\">\n",
       "  <thead>\n",
       "    <tr style=\"text-align: right;\">\n",
       "      <th></th>\n",
       "      <th>000001.XSHE</th>\n",
       "      <th>000002.XSHE</th>\n",
       "      <th>000003.XSHE</th>\n",
       "      <th>000004.XSHE</th>\n",
       "      <th>000005.XSHE</th>\n",
       "      <th>000006.XSHE</th>\n",
       "      <th>000007.XSHE</th>\n",
       "      <th>000008.XSHE</th>\n",
       "      <th>000009.XSHE</th>\n",
       "      <th>000010.XSHE</th>\n",
       "      <th>...</th>\n",
       "      <th>688768.XSHG</th>\n",
       "      <th>688777.XSHG</th>\n",
       "      <th>688788.XSHG</th>\n",
       "      <th>688789.XSHG</th>\n",
       "      <th>688793.XSHG</th>\n",
       "      <th>688799.XSHG</th>\n",
       "      <th>688800.XSHG</th>\n",
       "      <th>688819.XSHG</th>\n",
       "      <th>688981.XSHG</th>\n",
       "      <th>689009.XSHG</th>\n",
       "    </tr>\n",
       "  </thead>\n",
       "  <tbody>\n",
       "    <tr>\n",
       "      <th>False</th>\n",
       "      <td>2674.0</td>\n",
       "      <td>2674.0</td>\n",
       "      <td>2674.0</td>\n",
       "      <td>2330</td>\n",
       "      <td>2674.0</td>\n",
       "      <td>2674.0</td>\n",
       "      <td>2111</td>\n",
       "      <td>1877</td>\n",
       "      <td>2674.0</td>\n",
       "      <td>1460</td>\n",
       "      <td>...</td>\n",
       "      <td>2674.0</td>\n",
       "      <td>2674.0</td>\n",
       "      <td>2674.0</td>\n",
       "      <td>2674.0</td>\n",
       "      <td>2674.0</td>\n",
       "      <td>2674.0</td>\n",
       "      <td>2674.0</td>\n",
       "      <td>2674.0</td>\n",
       "      <td>2674.0</td>\n",
       "      <td>2674.0</td>\n",
       "    </tr>\n",
       "    <tr>\n",
       "      <th>True</th>\n",
       "      <td>NaN</td>\n",
       "      <td>NaN</td>\n",
       "      <td>NaN</td>\n",
       "      <td>344</td>\n",
       "      <td>NaN</td>\n",
       "      <td>NaN</td>\n",
       "      <td>563</td>\n",
       "      <td>797</td>\n",
       "      <td>NaN</td>\n",
       "      <td>1214</td>\n",
       "      <td>...</td>\n",
       "      <td>NaN</td>\n",
       "      <td>NaN</td>\n",
       "      <td>NaN</td>\n",
       "      <td>NaN</td>\n",
       "      <td>NaN</td>\n",
       "      <td>NaN</td>\n",
       "      <td>NaN</td>\n",
       "      <td>NaN</td>\n",
       "      <td>NaN</td>\n",
       "      <td>NaN</td>\n",
       "    </tr>\n",
       "  </tbody>\n",
       "</table>\n",
       "<p>2 rows × 4559 columns</p>\n",
       "</div>"
      ],
      "text/plain": [
       "       000001.XSHE  000002.XSHE  000003.XSHE  000004.XSHE  000005.XSHE  \\\n",
       "False       2674.0       2674.0       2674.0         2330       2674.0   \n",
       "True           NaN          NaN          NaN          344          NaN   \n",
       "\n",
       "       000006.XSHE  000007.XSHE  000008.XSHE  000009.XSHE  000010.XSHE  ...  \\\n",
       "False       2674.0         2111         1877       2674.0         1460  ...   \n",
       "True           NaN          563          797          NaN         1214  ...   \n",
       "\n",
       "       688768.XSHG  688777.XSHG  688788.XSHG  688789.XSHG  688793.XSHG  \\\n",
       "False       2674.0       2674.0       2674.0       2674.0       2674.0   \n",
       "True           NaN          NaN          NaN          NaN          NaN   \n",
       "\n",
       "       688799.XSHG  688800.XSHG  688819.XSHG  688981.XSHG  689009.XSHG  \n",
       "False       2674.0       2674.0       2674.0       2674.0       2674.0  \n",
       "True           NaN          NaN          NaN          NaN          NaN  \n",
       "\n",
       "[2 rows x 4559 columns]"
      ]
     },
     "execution_count": 104,
     "metadata": {},
     "output_type": "execute_result"
    }
   ],
   "source": [
    "count\n",
    "#这里肯定有问题，不可能所有股票都没退市，需要在外部网站上找个反例"
   ]
  },
  {
   "cell_type": "code",
   "execution_count": 109,
   "metadata": {},
   "outputs": [
    {
     "name": "stderr",
     "output_type": "stream",
     "text": [
      "C:\\Users\\jiyic\\anaconda3\\lib\\site-packages\\rqdatac\\validators.py:224: UserWarning: invalid order_book_id: 600849.XSHG\n",
      "  warnings.warn(\"invalid order_book_id: {}\".format(ob))\n"
     ]
    }
   ],
   "source": [
    "# all in ttm, not lyr 全部12个月滚动指标\n",
    "\n",
    "#市净率\n",
    "pb = rq.get_factor(normalized_code,'pb_ratio_ttm','20110101','20201231') \n",
    "#净资产收益率\n",
    "roe = rq.get_factor(normalized_code,'return_on_equity_ttm','20110101','20201231') \n",
    "#总市值\n",
    "mkt_cap = rq.get_factor(normalized_code,'market_cap_3','20110101','20201231')\n",
    "#股息率\n",
    "dividend_yield = rq.get_factor(normalized_code,'dividend_yield_ttm','20110101','20201231')\n",
    "#账面市值比\n",
    "bm = rq.get_factor(normalized_code,'book_to_market_ratio_ttm','20110101','20201231') \n",
    "#三日平均换手率\n",
    "vol3 = rq.get_factor(normalized_code,'VOL3','20110101','20201231') "
   ]
  },
  {
   "cell_type": "code",
   "execution_count": 122,
   "metadata": {},
   "outputs": [],
   "source": [
    "pb.to_hdf('pb.h5', key='factor')"
   ]
  },
  {
   "cell_type": "code",
   "execution_count": 123,
   "metadata": {},
   "outputs": [],
   "source": [
    "roe.to_hdf('roe.h5',key='factor')\n",
    "mkt_cap.to_hdf('mkt_cap.h5',key='factor')\n",
    "dividend_yield.to_hdf('dividend yield.h5', key='factor')\n",
    "bm.to_hdf('bm.h5',key='factor')\n",
    "vol3.to_hdf('vol3.h5',key='factor')"
   ]
  },
  {
   "cell_type": "code",
   "execution_count": 119,
   "metadata": {},
   "outputs": [
    {
     "data": {
      "text/html": [
       "<div>\n",
       "<style scoped>\n",
       "    .dataframe tbody tr th:only-of-type {\n",
       "        vertical-align: middle;\n",
       "    }\n",
       "\n",
       "    .dataframe tbody tr th {\n",
       "        vertical-align: top;\n",
       "    }\n",
       "\n",
       "    .dataframe thead th {\n",
       "        text-align: right;\n",
       "    }\n",
       "</style>\n",
       "<table border=\"1\" class=\"dataframe\">\n",
       "  <thead>\n",
       "    <tr style=\"text-align: right;\">\n",
       "      <th></th>\n",
       "      <th></th>\n",
       "      <th>VOL3</th>\n",
       "    </tr>\n",
       "    <tr>\n",
       "      <th>order_book_id</th>\n",
       "      <th>date</th>\n",
       "      <th></th>\n",
       "    </tr>\n",
       "  </thead>\n",
       "  <tbody>\n",
       "    <tr>\n",
       "      <th rowspan=\"5\" valign=\"top\">000404.XSHE</th>\n",
       "      <th>2011-01-04</th>\n",
       "      <td>NaN</td>\n",
       "    </tr>\n",
       "    <tr>\n",
       "      <th>2011-01-05</th>\n",
       "      <td>6.899900</td>\n",
       "    </tr>\n",
       "    <tr>\n",
       "      <th>2011-01-06</th>\n",
       "      <td>7.909089</td>\n",
       "    </tr>\n",
       "    <tr>\n",
       "      <th>2011-01-07</th>\n",
       "      <td>5.180172</td>\n",
       "    </tr>\n",
       "    <tr>\n",
       "      <th>2011-01-10</th>\n",
       "      <td>3.398361</td>\n",
       "    </tr>\n",
       "    <tr>\n",
       "      <th>...</th>\n",
       "      <th>...</th>\n",
       "      <td>...</td>\n",
       "    </tr>\n",
       "    <tr>\n",
       "      <th rowspan=\"5\" valign=\"top\">002465.XSHE</th>\n",
       "      <th>2020-12-25</th>\n",
       "      <td>1.276270</td>\n",
       "    </tr>\n",
       "    <tr>\n",
       "      <th>2020-12-28</th>\n",
       "      <td>1.332772</td>\n",
       "    </tr>\n",
       "    <tr>\n",
       "      <th>2020-12-29</th>\n",
       "      <td>1.394673</td>\n",
       "    </tr>\n",
       "    <tr>\n",
       "      <th>2020-12-30</th>\n",
       "      <td>1.314515</td>\n",
       "    </tr>\n",
       "    <tr>\n",
       "      <th>2020-12-31</th>\n",
       "      <td>1.302393</td>\n",
       "    </tr>\n",
       "  </tbody>\n",
       "</table>\n",
       "<p>11087488 rows × 1 columns</p>\n",
       "</div>"
      ],
      "text/plain": [
       "                              VOL3\n",
       "order_book_id date                \n",
       "000404.XSHE   2011-01-04       NaN\n",
       "              2011-01-05  6.899900\n",
       "              2011-01-06  7.909089\n",
       "              2011-01-07  5.180172\n",
       "              2011-01-10  3.398361\n",
       "...                            ...\n",
       "002465.XSHE   2020-12-25  1.276270\n",
       "              2020-12-28  1.332772\n",
       "              2020-12-29  1.394673\n",
       "              2020-12-30  1.314515\n",
       "              2020-12-31  1.302393\n",
       "\n",
       "[11087488 rows x 1 columns]"
      ]
     },
     "execution_count": 119,
     "metadata": {},
     "output_type": "execute_result"
    }
   ],
   "source": [
    "vol3"
   ]
  },
  {
   "cell_type": "code",
   "execution_count": 120,
   "metadata": {},
   "outputs": [
    {
     "data": {
      "text/plain": [
       "4287947"
      ]
     },
     "execution_count": 120,
     "metadata": {},
     "output_type": "execute_result"
    }
   ],
   "source": [
    "sum(vol3.isna()['VOL3'])"
   ]
  },
  {
   "cell_type": "code",
   "execution_count": 117,
   "metadata": {},
   "outputs": [
    {
     "data": {
      "text/html": [
       "<div>\n",
       "<style scoped>\n",
       "    .dataframe tbody tr th:only-of-type {\n",
       "        vertical-align: middle;\n",
       "    }\n",
       "\n",
       "    .dataframe tbody tr th {\n",
       "        vertical-align: top;\n",
       "    }\n",
       "\n",
       "    .dataframe thead th {\n",
       "        text-align: right;\n",
       "    }\n",
       "</style>\n",
       "<table border=\"1\" class=\"dataframe\">\n",
       "  <thead>\n",
       "    <tr style=\"text-align: right;\">\n",
       "      <th></th>\n",
       "      <th></th>\n",
       "      <th>return_on_equity_ttm</th>\n",
       "    </tr>\n",
       "    <tr>\n",
       "      <th>order_book_id</th>\n",
       "      <th>date</th>\n",
       "      <th></th>\n",
       "    </tr>\n",
       "  </thead>\n",
       "  <tbody>\n",
       "    <tr>\n",
       "      <th rowspan=\"5\" valign=\"top\">000404.XSHE</th>\n",
       "      <th>2011-01-04</th>\n",
       "      <td>0.084820</td>\n",
       "    </tr>\n",
       "    <tr>\n",
       "      <th>2011-01-05</th>\n",
       "      <td>0.084820</td>\n",
       "    </tr>\n",
       "    <tr>\n",
       "      <th>2011-01-06</th>\n",
       "      <td>0.084820</td>\n",
       "    </tr>\n",
       "    <tr>\n",
       "      <th>2011-01-07</th>\n",
       "      <td>0.084820</td>\n",
       "    </tr>\n",
       "    <tr>\n",
       "      <th>2011-01-10</th>\n",
       "      <td>0.084820</td>\n",
       "    </tr>\n",
       "    <tr>\n",
       "      <th>...</th>\n",
       "      <th>...</th>\n",
       "      <td>...</td>\n",
       "    </tr>\n",
       "    <tr>\n",
       "      <th rowspan=\"5\" valign=\"top\">002465.XSHE</th>\n",
       "      <th>2020-12-25</th>\n",
       "      <td>0.057075</td>\n",
       "    </tr>\n",
       "    <tr>\n",
       "      <th>2020-12-28</th>\n",
       "      <td>0.057075</td>\n",
       "    </tr>\n",
       "    <tr>\n",
       "      <th>2020-12-29</th>\n",
       "      <td>0.057075</td>\n",
       "    </tr>\n",
       "    <tr>\n",
       "      <th>2020-12-30</th>\n",
       "      <td>0.057075</td>\n",
       "    </tr>\n",
       "    <tr>\n",
       "      <th>2020-12-31</th>\n",
       "      <td>0.057075</td>\n",
       "    </tr>\n",
       "  </tbody>\n",
       "</table>\n",
       "<p>11087488 rows × 1 columns</p>\n",
       "</div>"
      ],
      "text/plain": [
       "                          return_on_equity_ttm\n",
       "order_book_id date                            \n",
       "000404.XSHE   2011-01-04              0.084820\n",
       "              2011-01-05              0.084820\n",
       "              2011-01-06              0.084820\n",
       "              2011-01-07              0.084820\n",
       "              2011-01-10              0.084820\n",
       "...                                        ...\n",
       "002465.XSHE   2020-12-25              0.057075\n",
       "              2020-12-28              0.057075\n",
       "              2020-12-29              0.057075\n",
       "              2020-12-30              0.057075\n",
       "              2020-12-31              0.057075\n",
       "\n",
       "[11087488 rows x 1 columns]"
      ]
     },
     "execution_count": 117,
     "metadata": {},
     "output_type": "execute_result"
    }
   ],
   "source": [
    "vol3"
   ]
  },
  {
   "cell_type": "code",
   "execution_count": 116,
   "metadata": {},
   "outputs": [
    {
     "data": {
      "text/plain": [
       "4239827"
      ]
     },
     "execution_count": 116,
     "metadata": {},
     "output_type": "execute_result"
    }
   ],
   "source": [
    "# number of missing values\n",
    "sum(roe.isna()['return_on_equity_ttm'])"
   ]
  }
 ],
 "metadata": {
  "kernelspec": {
   "display_name": "Python 3",
   "language": "python",
   "name": "python3"
  },
  "language_info": {
   "codemirror_mode": {
    "name": "ipython",
    "version": 3
   },
   "file_extension": ".py",
   "mimetype": "text/x-python",
   "name": "python",
   "nbconvert_exporter": "python",
   "pygments_lexer": "ipython3",
   "version": "3.8.5"
  }
 },
 "nbformat": 4,
 "nbformat_minor": 4
}
