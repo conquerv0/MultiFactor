{
 "cells": [
  {
   "cell_type": "code",
   "execution_count": 1,
   "metadata": {},
   "outputs": [],
   "source": [
    "import numpy as np\n",
    "import pandas as pd\n",
    "import os\n",
    "import rqdatac as rq\n",
    "\n",
    "from dataloader_ricequant import normalize_code"
   ]
  },
  {
   "cell_type": "code",
   "execution_count": 11,
   "metadata": {},
   "outputs": [],
   "source": [
    "stock_path = './data/stock_data/'\n",
    "stock_names = os.listdir(path=stock_path)\n",
    "\n",
    "format_stock_names = []\n",
    "for name in stock_names:\n",
    "    format_stock_names.append(name[:-4].strip().upper())"
   ]
  },
  {
   "cell_type": "code",
   "execution_count": 14,
   "metadata": {},
   "outputs": [
    {
     "data": {
      "text/plain": [
       "'600000.XSHG'"
      ]
     },
     "execution_count": 14,
     "metadata": {},
     "output_type": "execute_result"
    }
   ],
   "source": [
    "normalized_code = [normalize_code(name) for name in format_stock_names] # length = 4560\n",
    "normalized_code[0]"
   ]
  },
  {
   "cell_type": "markdown",
   "metadata": {},
   "source": [
    "Set time period for factor data = [20101231, 20201231] \n",
    "\n",
    "Non-trading days are not counted in the dataframe."
   ]
  },
  {
   "cell_type": "markdown",
   "metadata": {},
   "source": [
    "保证非交易日没有纳入因子数据后，我们要在每个选股日剔除当天的ST股、停牌股（所有还是按比例？）、已退市和上市不满3(?)年的股票。\n",
    "\n",
    "交易日的选择未定（每月月底？），如果按十年内ST/停牌出现的比例剔除ST、停牌、退市股或许存在前视偏差(look-ahead bias)\n",
    "\n",
    "这里先剔除所有ST股"
   ]
  },
  {
   "cell_type": "code",
   "execution_count": 16,
   "metadata": {
    "scrolled": true
   },
   "outputs": [
    {
     "name": "stderr",
     "output_type": "stream",
     "text": [
      "C:\\Users\\jiyic\\anaconda3\\lib\\site-packages\\rqdatac\\validators.py:224: UserWarning: invalid order_book_id: 600849.XSHG\n",
      "  warnings.warn(\"invalid order_book_id: {}\".format(ob))\n"
     ]
    }
   ],
   "source": [
    "# 检测回测时间内是否有ST退市股票\n",
    "non_st_stock = rq.is_st_stock(normalized_code, '20100101','20201231')\n",
    "# get column values i.e. stock code sorted\n",
    "non_st_stock = non_st_stock.reindex(sorted(non_st_stock.columns), axis=1)"
   ]
  },
  {
   "cell_type": "code",
   "execution_count": 107,
   "metadata": {},
   "outputs": [],
   "source": [
    "st_count = [non_st_stock[code].value_counts() for code in non_st_stock.columns]\n",
    "# stocks used to be ST during our backtesting period\n",
    "st_df = pd.DataFrame(st_count)[~st_df[True].isnull()].sort_values(by=True,ascending=False)"
   ]
  },
  {
   "cell_type": "code",
   "execution_count": 112,
   "metadata": {},
   "outputs": [
    {
     "data": {
      "text/html": [
       "<div>\n",
       "<style scoped>\n",
       "    .dataframe tbody tr th:only-of-type {\n",
       "        vertical-align: middle;\n",
       "    }\n",
       "\n",
       "    .dataframe tbody tr th {\n",
       "        vertical-align: top;\n",
       "    }\n",
       "\n",
       "    .dataframe thead th {\n",
       "        text-align: right;\n",
       "    }\n",
       "</style>\n",
       "<table border=\"1\" class=\"dataframe\">\n",
       "  <thead>\n",
       "    <tr style=\"text-align: right;\">\n",
       "      <th></th>\n",
       "      <th>False</th>\n",
       "      <th>True</th>\n",
       "    </tr>\n",
       "  </thead>\n",
       "  <tbody>\n",
       "    <tr>\n",
       "      <th>600817.XSHG</th>\n",
       "      <td>NaN</td>\n",
       "      <td>2674.0</td>\n",
       "    </tr>\n",
       "    <tr>\n",
       "      <th>600091.XSHG</th>\n",
       "      <td>79.0</td>\n",
       "      <td>2595.0</td>\n",
       "    </tr>\n",
       "    <tr>\n",
       "      <th>600301.XSHG</th>\n",
       "      <td>234.0</td>\n",
       "      <td>2440.0</td>\n",
       "    </tr>\n",
       "    <tr>\n",
       "      <th>600145.XSHG</th>\n",
       "      <td>480.0</td>\n",
       "      <td>2194.0</td>\n",
       "    </tr>\n",
       "    <tr>\n",
       "      <th>600234.XSHG</th>\n",
       "      <td>497.0</td>\n",
       "      <td>2177.0</td>\n",
       "    </tr>\n",
       "    <tr>\n",
       "      <th>...</th>\n",
       "      <td>...</td>\n",
       "      <td>...</td>\n",
       "    </tr>\n",
       "    <tr>\n",
       "      <th>300104.XSHE</th>\n",
       "      <td>2643.0</td>\n",
       "      <td>31.0</td>\n",
       "    </tr>\n",
       "    <tr>\n",
       "      <th>300431.XSHE</th>\n",
       "      <td>2643.0</td>\n",
       "      <td>31.0</td>\n",
       "    </tr>\n",
       "    <tr>\n",
       "      <th>300216.XSHE</th>\n",
       "      <td>2643.0</td>\n",
       "      <td>31.0</td>\n",
       "    </tr>\n",
       "    <tr>\n",
       "      <th>600185.XSHG</th>\n",
       "      <td>2645.0</td>\n",
       "      <td>29.0</td>\n",
       "    </tr>\n",
       "    <tr>\n",
       "      <th>600591.XSHG</th>\n",
       "      <td>2658.0</td>\n",
       "      <td>16.0</td>\n",
       "    </tr>\n",
       "  </tbody>\n",
       "</table>\n",
       "<p>545 rows × 2 columns</p>\n",
       "</div>"
      ],
      "text/plain": [
       "              False   True \n",
       "600817.XSHG     NaN  2674.0\n",
       "600091.XSHG    79.0  2595.0\n",
       "600301.XSHG   234.0  2440.0\n",
       "600145.XSHG   480.0  2194.0\n",
       "600234.XSHG   497.0  2177.0\n",
       "...             ...     ...\n",
       "300104.XSHE  2643.0    31.0\n",
       "300431.XSHE  2643.0    31.0\n",
       "300216.XSHE  2643.0    31.0\n",
       "600185.XSHG  2645.0    29.0\n",
       "600591.XSHG  2658.0    16.0\n",
       "\n",
       "[545 rows x 2 columns]"
      ]
     },
     "execution_count": 112,
     "metadata": {},
     "output_type": "execute_result"
    }
   ],
   "source": [
    "st_df"
   ]
  },
  {
   "cell_type": "markdown",
   "metadata": {},
   "source": [
    "545 out of 4560 stocks were once warned ST, so we consider kick them out from our price data."
   ]
  },
  {
   "cell_type": "markdown",
   "metadata": {},
   "source": [
    "600849.XSHG changed its ticker code, so it is automatically kicked out of the pool."
   ]
  },
  {
   "cell_type": "code",
   "execution_count": 119,
   "metadata": {},
   "outputs": [],
   "source": [
    "# check the number of suspended days for each stock\n",
    "# 每只股票停牌天数\n",
    "check_suspend= rq.is_suspended(normalized_code, '20100101','20201231', market='cn')\n",
    "check_suspend = check_suspend.reindex(sorted(check_suspend.columns), axis=1)\n",
    "suspended_count = [check_suspend[code].value_counts() for code in check_suspend.columns]\n",
    "# stocks used to have suspended days during our backtesting period\n",
    "suspend_df = pd.DataFrame(suspended_count)"
   ]
  },
  {
   "cell_type": "code",
   "execution_count": 132,
   "metadata": {},
   "outputs": [
    {
     "data": {
      "text/html": [
       "<div>\n",
       "<style scoped>\n",
       "    .dataframe tbody tr th:only-of-type {\n",
       "        vertical-align: middle;\n",
       "    }\n",
       "\n",
       "    .dataframe tbody tr th {\n",
       "        vertical-align: top;\n",
       "    }\n",
       "\n",
       "    .dataframe thead th {\n",
       "        text-align: right;\n",
       "    }\n",
       "</style>\n",
       "<table border=\"1\" class=\"dataframe\">\n",
       "  <thead>\n",
       "    <tr style=\"text-align: right;\">\n",
       "      <th></th>\n",
       "      <th>False</th>\n",
       "      <th>True</th>\n",
       "    </tr>\n",
       "  </thead>\n",
       "  <tbody>\n",
       "    <tr>\n",
       "      <th>000693.XSHE</th>\n",
       "      <td>859.0</td>\n",
       "      <td>1815.0</td>\n",
       "    </tr>\n",
       "    <tr>\n",
       "      <th>600145.XSHG</th>\n",
       "      <td>1343.0</td>\n",
       "      <td>1331.0</td>\n",
       "    </tr>\n",
       "    <tr>\n",
       "      <th>000670.XSHE</th>\n",
       "      <td>1417.0</td>\n",
       "      <td>1257.0</td>\n",
       "    </tr>\n",
       "    <tr>\n",
       "      <th>000038.XSHE</th>\n",
       "      <td>1447.0</td>\n",
       "      <td>1227.0</td>\n",
       "    </tr>\n",
       "    <tr>\n",
       "      <th>600817.XSHG</th>\n",
       "      <td>1484.0</td>\n",
       "      <td>1190.0</td>\n",
       "    </tr>\n",
       "    <tr>\n",
       "      <th>...</th>\n",
       "      <td>...</td>\n",
       "      <td>...</td>\n",
       "    </tr>\n",
       "    <tr>\n",
       "      <th>002903.XSHE</th>\n",
       "      <td>2673.0</td>\n",
       "      <td>1.0</td>\n",
       "    </tr>\n",
       "    <tr>\n",
       "      <th>601611.XSHG</th>\n",
       "      <td>2673.0</td>\n",
       "      <td>1.0</td>\n",
       "    </tr>\n",
       "    <tr>\n",
       "      <th>603798.XSHG</th>\n",
       "      <td>2673.0</td>\n",
       "      <td>1.0</td>\n",
       "    </tr>\n",
       "    <tr>\n",
       "      <th>603839.XSHG</th>\n",
       "      <td>2673.0</td>\n",
       "      <td>1.0</td>\n",
       "    </tr>\n",
       "    <tr>\n",
       "      <th>603098.XSHG</th>\n",
       "      <td>2673.0</td>\n",
       "      <td>1.0</td>\n",
       "    </tr>\n",
       "  </tbody>\n",
       "</table>\n",
       "<p>3065 rows × 2 columns</p>\n",
       "</div>"
      ],
      "text/plain": [
       "              False   True \n",
       "000693.XSHE   859.0  1815.0\n",
       "600145.XSHG  1343.0  1331.0\n",
       "000670.XSHE  1417.0  1257.0\n",
       "000038.XSHE  1447.0  1227.0\n",
       "600817.XSHG  1484.0  1190.0\n",
       "...             ...     ...\n",
       "002903.XSHE  2673.0     1.0\n",
       "601611.XSHG  2673.0     1.0\n",
       "603798.XSHG  2673.0     1.0\n",
       "603839.XSHG  2673.0     1.0\n",
       "603098.XSHG  2673.0     1.0\n",
       "\n",
       "[3065 rows x 2 columns]"
      ]
     },
     "execution_count": 132,
     "metadata": {},
     "output_type": "execute_result"
    }
   ],
   "source": [
    "suspend_df = suspend_df[~suspend_df[True].isnull()].sort_values(by=True,ascending=False)\n",
    "suspend_df"
   ]
  },
  {
   "cell_type": "markdown",
   "metadata": {},
   "source": [
    "3065 out of 4560 stocks were suspended at least for one day in the period."
   ]
  },
  {
   "cell_type": "markdown",
   "metadata": {},
   "source": [
    "### Unify stock codes that are used in Alphalens"
   ]
  },
  {
   "cell_type": "code",
   "execution_count": 166,
   "metadata": {},
   "outputs": [],
   "source": [
    "st_stocklist = st_df.index.to_list()\n",
    "# subset the stocks with more than 365 days being suspended\n",
    "suspend_stocklist = suspend_df[suspend_df[True]>365].index.to_list()"
   ]
  },
  {
   "cell_type": "code",
   "execution_count": 167,
   "metadata": {},
   "outputs": [],
   "source": [
    "no_st_code = list(set(normalized_code) - set(st_stocklist))\n",
    "less_1k_suspend_code = list(set(normalized_code) - set(suspend_stocklist))\n",
    "codes = list(set(no_st_code) & set(less_1k_suspend_code))"
   ]
  },
  {
   "cell_type": "code",
   "execution_count": 168,
   "metadata": {},
   "outputs": [
    {
     "data": {
      "text/plain": [
       "3957"
      ]
     },
     "execution_count": 168,
     "metadata": {},
     "output_type": "execute_result"
    }
   ],
   "source": [
    "len(codes)"
   ]
  },
  {
   "cell_type": "code",
   "execution_count": 173,
   "metadata": {},
   "outputs": [],
   "source": [
    "backtest_price_data = pd.read_hdf('10-year non-ST price data.h5')\n",
    "backtest_price_data = backtest_price_data.fillna(method='ffill')\n",
    "backtest_price_data.columns = [normalize_code(name) for name in backtest_price_data.columns]\n",
    "\n",
    "# get the intersection of codes between factor data and price data\n",
    "codes = list(set(codes) & set(backtest_price_data.columns))"
   ]
  },
  {
   "cell_type": "code",
   "execution_count": 172,
   "metadata": {},
   "outputs": [
    {
     "data": {
      "text/plain": [
       "2183"
      ]
     },
     "execution_count": 172,
     "metadata": {},
     "output_type": "execute_result"
    }
   ],
   "source": [
    "len(stock_codes)"
   ]
  }
 ],
 "metadata": {
  "kernelspec": {
   "display_name": "Python 3",
   "language": "python",
   "name": "python3"
  },
  "language_info": {
   "codemirror_mode": {
    "name": "ipython",
    "version": 3
   },
   "file_extension": ".py",
   "mimetype": "text/x-python",
   "name": "python",
   "nbconvert_exporter": "python",
   "pygments_lexer": "ipython3",
   "version": "3.9.7"
  }
 },
 "nbformat": 4,
 "nbformat_minor": 4
}
