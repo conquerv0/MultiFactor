{
 "cells": [
  {
   "cell_type": "code",
   "execution_count": 177,
   "metadata": {},
   "outputs": [],
   "source": [
    "import numpy as np\n",
    "import pandas as pd\n",
    "import os\n",
    "import rqdatac as rq"
   ]
  },
  {
   "cell_type": "code",
   "execution_count": 17,
   "metadata": {},
   "outputs": [],
   "source": [
    "import missingno as msno"
   ]
  },
  {
   "cell_type": "code",
   "execution_count": 178,
   "metadata": {},
   "outputs": [
    {
     "name": "stderr",
     "output_type": "stream",
     "text": [
      "C:\\Users\\jiyic\\anaconda3\\lib\\site-packages\\rqdatac\\client.py:197: UserWarning: rqdatac is already inited. Settings will be changed.\n",
      "  warnings.warn(\"rqdatac is already inited. Settings will be changed.\", stacklevel=0)\n",
      "C:\\Users\\jiyic\\anaconda3\\lib\\site-packages\\rqdatac\\client.py:236: UserWarning: Your account will be expired after  209 days. Please call us at 0755-22676337 to upgrade or purchase or renew your contract.\n",
      "  warnings.warn(\"Your account will be expired after  {} days. \"\n"
     ]
    }
   ],
   "source": [
    "rq.init('license', 'QhhTnnWjN5eWgeBzXChE-d4iqymtu4-6XIBIjcO4Oh339_i0W1LifdY980vuXMEq-Zxz03HTXeItx7cK-704N0Go8i7DERQjkXQIirqt6l4ZTVJIcJbC1Vh62p5npTupQN0F9SyXTIoE1UQPacRqhHUSWHQm4yNFQW2nHffVVlY=Th4zB2-UYw5Q76xBPpPrLCKIjzpVid9Wogpi8QP9Ju8M7ZRUXzA9V6TmKCWOlCrTPBWnA8HAjEL-3hM55cAac-hzVADGoxpfV4tHA79mMsjOCREOTXzQH6rqcqUuEDuzShSWFB069fRSetK3yzgeeRdqocHmJ4ATA3a3pCcAVpA=')"
   ]
  },
  {
   "cell_type": "code",
   "execution_count": 179,
   "metadata": {},
   "outputs": [
    {
     "data": {
      "text/plain": [
       "{'bytes_used': 225476352,\n",
       " 'bytes_limit': 209715200.0,\n",
       " 'remaining_days': 209,\n",
       " 'license_type': 'TRIAL'}"
      ]
     },
     "execution_count": 179,
     "metadata": {},
     "output_type": "execute_result"
    }
   ],
   "source": [
    "rq.user.get_quota()"
   ]
  },
  {
   "cell_type": "code",
   "execution_count": 11,
   "metadata": {},
   "outputs": [],
   "source": [
    "import re \n",
    "\n",
    "stock_path = './data/stock_data/'\n",
    "stock_names = os.listdir(path=stock_path)\n",
    "\n",
    "format_stock_names = []\n",
    "for name in stock_names:\n",
    "    format_stock_names.append(name[:-4].strip().upper())"
   ]
  },
  {
   "cell_type": "code",
   "execution_count": 12,
   "metadata": {},
   "outputs": [],
   "source": [
    "def normalize_code(symbol, pre_close=None):\n",
    "    \"\"\"\n",
    "    归一化证券代码\n",
    "\n",
    "    :param code 如000001\n",
    "    :return 证券代码的全称 如000001.XSHE\n",
    "    \"\"\"\n",
    "    XSHG = 'XSHG'\n",
    "    SSE = 'XSHG'\n",
    "    SH = 'XSHG'\n",
    "    XSHE = 'XSHE'\n",
    "    SZ = 'XSHE'\n",
    "    SZE = 'XSHE'\n",
    "    if (not isinstance(symbol, str)):\n",
    "        return symbol\n",
    "\n",
    "    if (symbol.startswith('SZ') and (len(symbol) == 8)):\n",
    "        ret_normalize_code = '{}.{}'.format(symbol[2:8],SZ)\n",
    "    elif (symbol.startswith('SH') and (len(symbol) == 8)):\n",
    "        ret_normalize_code = '{}.{}'.format(symbol[2:8], SH)\n",
    "    elif (symbol.startswith('00') and (len(symbol) == 6)):\n",
    "        if ((pre_close is not None) and (pre_close > 2000)):\n",
    "            # 推断是上证指数\n",
    "            ret_normalize_code = '{}.{}'.format(symbol, SH)\n",
    "        else:\n",
    "            ret_normalize_code = '{}.{}'.format(symbol, SZ)\n",
    "    elif ((symbol.startswith('399') or symbol.startswith('159') or \\\n",
    "        symbol.startswith('150')) and (len(symbol) == 6)):\n",
    "        ret_normalize_code = '{}.{}'.format(symbol, SH)\n",
    "    elif ((len(symbol) == 6) and (symbol.startswith('399') or \\\n",
    "        symbol.startswith('159') or symbol.startswith('150') or \\\n",
    "        symbol.startswith('16') or symbol.startswith('184801') or \\\n",
    "        symbol.startswith('201872'))):\n",
    "        ret_normalize_code = '{}.{}'.format(symbol, SZ)\n",
    "    elif ((len(symbol) == 6) and (symbol.startswith('50') or \\\n",
    "        symbol.startswith('51') or symbol.startswith('60') or \\\n",
    "        symbol.startswith('688') or symbol.startswith('900') or \\\n",
    "        (symbol == '751038'))):\n",
    "        ret_normalize_code = '{}.{}'.format(symbol, SH)\n",
    "    elif ((len(symbol) == 6) and (symbol[:3] in ['000', '001', '002', \n",
    "                                                 '200', '300'])):\n",
    "        ret_normalize_code = '{}.{}'.format(symbol, SZ)\n",
    "    else:\n",
    "        print(symbol)\n",
    "        ret_normalize_code = symbol\n",
    "\n",
    "    return ret_normalize_code"
   ]
  },
  {
   "cell_type": "code",
   "execution_count": 14,
   "metadata": {},
   "outputs": [
    {
     "data": {
      "text/plain": [
       "'600000.XSHG'"
      ]
     },
     "execution_count": 14,
     "metadata": {},
     "output_type": "execute_result"
    }
   ],
   "source": [
    "normalized_code = [normalize_code(name) for name in format_stock_names] # length = 4560\n",
    "normalized_code[0]"
   ]
  },
  {
   "cell_type": "markdown",
   "metadata": {},
   "source": [
    "Set time period for factor data = [20101231, 20201231] \n",
    "\n",
    "Non-trading days are not counted in the dataframe."
   ]
  },
  {
   "cell_type": "markdown",
   "metadata": {},
   "source": [
    "保证非交易日没有纳入因子数据后，我们要在每个选股日剔除当天的ST股、停牌股（所有还是按比例？）、已退市和上市不满3(?)年的股票。\n",
    "\n",
    "交易日的选择未定（每月月底？），如果按十年内ST/停牌出现的比例剔除ST、停牌、退市股或许存在前视偏差(look-ahead bias)\n",
    "\n",
    "这里先剔除所有ST股"
   ]
  },
  {
   "cell_type": "code",
   "execution_count": 16,
   "metadata": {
    "scrolled": true
   },
   "outputs": [
    {
     "name": "stderr",
     "output_type": "stream",
     "text": [
      "C:\\Users\\jiyic\\anaconda3\\lib\\site-packages\\rqdatac\\validators.py:224: UserWarning: invalid order_book_id: 600849.XSHG\n",
      "  warnings.warn(\"invalid order_book_id: {}\".format(ob))\n"
     ]
    }
   ],
   "source": [
    "# 检测回测时间内是否有ST退市股票\n",
    "non_st_stock = rq.is_st_stock(normalized_code, '20100101','20201231')\n",
    "# get column values i.e. stock code sorted\n",
    "non_st_stock = non_st_stock.reindex(sorted(non_st_stock.columns), axis=1)"
   ]
  },
  {
   "cell_type": "code",
   "execution_count": 107,
   "metadata": {},
   "outputs": [],
   "source": [
    "st_count = [non_st_stock[code].value_counts() for code in non_st_stock.columns]\n",
    "# stocks used to be ST during our backtesting period\n",
    "st_df = pd.DataFrame(st_count)[~st_df[True].isnull()].sort_values(by=True,ascending=False)"
   ]
  },
  {
   "cell_type": "code",
   "execution_count": 112,
   "metadata": {},
   "outputs": [
    {
     "data": {
      "text/html": [
       "<div>\n",
       "<style scoped>\n",
       "    .dataframe tbody tr th:only-of-type {\n",
       "        vertical-align: middle;\n",
       "    }\n",
       "\n",
       "    .dataframe tbody tr th {\n",
       "        vertical-align: top;\n",
       "    }\n",
       "\n",
       "    .dataframe thead th {\n",
       "        text-align: right;\n",
       "    }\n",
       "</style>\n",
       "<table border=\"1\" class=\"dataframe\">\n",
       "  <thead>\n",
       "    <tr style=\"text-align: right;\">\n",
       "      <th></th>\n",
       "      <th>False</th>\n",
       "      <th>True</th>\n",
       "    </tr>\n",
       "  </thead>\n",
       "  <tbody>\n",
       "    <tr>\n",
       "      <th>600817.XSHG</th>\n",
       "      <td>NaN</td>\n",
       "      <td>2674.0</td>\n",
       "    </tr>\n",
       "    <tr>\n",
       "      <th>600091.XSHG</th>\n",
       "      <td>79.0</td>\n",
       "      <td>2595.0</td>\n",
       "    </tr>\n",
       "    <tr>\n",
       "      <th>600301.XSHG</th>\n",
       "      <td>234.0</td>\n",
       "      <td>2440.0</td>\n",
       "    </tr>\n",
       "    <tr>\n",
       "      <th>600145.XSHG</th>\n",
       "      <td>480.0</td>\n",
       "      <td>2194.0</td>\n",
       "    </tr>\n",
       "    <tr>\n",
       "      <th>600234.XSHG</th>\n",
       "      <td>497.0</td>\n",
       "      <td>2177.0</td>\n",
       "    </tr>\n",
       "    <tr>\n",
       "      <th>...</th>\n",
       "      <td>...</td>\n",
       "      <td>...</td>\n",
       "    </tr>\n",
       "    <tr>\n",
       "      <th>300104.XSHE</th>\n",
       "      <td>2643.0</td>\n",
       "      <td>31.0</td>\n",
       "    </tr>\n",
       "    <tr>\n",
       "      <th>300431.XSHE</th>\n",
       "      <td>2643.0</td>\n",
       "      <td>31.0</td>\n",
       "    </tr>\n",
       "    <tr>\n",
       "      <th>300216.XSHE</th>\n",
       "      <td>2643.0</td>\n",
       "      <td>31.0</td>\n",
       "    </tr>\n",
       "    <tr>\n",
       "      <th>600185.XSHG</th>\n",
       "      <td>2645.0</td>\n",
       "      <td>29.0</td>\n",
       "    </tr>\n",
       "    <tr>\n",
       "      <th>600591.XSHG</th>\n",
       "      <td>2658.0</td>\n",
       "      <td>16.0</td>\n",
       "    </tr>\n",
       "  </tbody>\n",
       "</table>\n",
       "<p>545 rows × 2 columns</p>\n",
       "</div>"
      ],
      "text/plain": [
       "              False   True \n",
       "600817.XSHG     NaN  2674.0\n",
       "600091.XSHG    79.0  2595.0\n",
       "600301.XSHG   234.0  2440.0\n",
       "600145.XSHG   480.0  2194.0\n",
       "600234.XSHG   497.0  2177.0\n",
       "...             ...     ...\n",
       "300104.XSHE  2643.0    31.0\n",
       "300431.XSHE  2643.0    31.0\n",
       "300216.XSHE  2643.0    31.0\n",
       "600185.XSHG  2645.0    29.0\n",
       "600591.XSHG  2658.0    16.0\n",
       "\n",
       "[545 rows x 2 columns]"
      ]
     },
     "execution_count": 112,
     "metadata": {},
     "output_type": "execute_result"
    }
   ],
   "source": [
    "st_df"
   ]
  },
  {
   "cell_type": "markdown",
   "metadata": {},
   "source": [
    "545 out of 4560 stocks were once warned ST, so we consider kick them out from our price data."
   ]
  },
  {
   "cell_type": "markdown",
   "metadata": {},
   "source": [
    "600849.XSHG changed its ticker code, so it is automatically kicked out of the pool."
   ]
  },
  {
   "cell_type": "code",
   "execution_count": 119,
   "metadata": {},
   "outputs": [],
   "source": [
    "# check the number of suspended days for each stock\n",
    "# 每只股票停牌天数\n",
    "check_suspend= rq.is_suspended(normalized_code, '20100101','20201231', market='cn')\n",
    "check_suspend = check_suspend.reindex(sorted(check_suspend.columns), axis=1)\n",
    "suspended_count = [check_suspend[code].value_counts() for code in check_suspend.columns]\n",
    "# stocks used to have suspended days during our backtesting period\n",
    "suspend_df = pd.DataFrame(suspended_count)"
   ]
  },
  {
   "cell_type": "code",
   "execution_count": 132,
   "metadata": {},
   "outputs": [
    {
     "data": {
      "text/html": [
       "<div>\n",
       "<style scoped>\n",
       "    .dataframe tbody tr th:only-of-type {\n",
       "        vertical-align: middle;\n",
       "    }\n",
       "\n",
       "    .dataframe tbody tr th {\n",
       "        vertical-align: top;\n",
       "    }\n",
       "\n",
       "    .dataframe thead th {\n",
       "        text-align: right;\n",
       "    }\n",
       "</style>\n",
       "<table border=\"1\" class=\"dataframe\">\n",
       "  <thead>\n",
       "    <tr style=\"text-align: right;\">\n",
       "      <th></th>\n",
       "      <th>False</th>\n",
       "      <th>True</th>\n",
       "    </tr>\n",
       "  </thead>\n",
       "  <tbody>\n",
       "    <tr>\n",
       "      <th>000693.XSHE</th>\n",
       "      <td>859.0</td>\n",
       "      <td>1815.0</td>\n",
       "    </tr>\n",
       "    <tr>\n",
       "      <th>600145.XSHG</th>\n",
       "      <td>1343.0</td>\n",
       "      <td>1331.0</td>\n",
       "    </tr>\n",
       "    <tr>\n",
       "      <th>000670.XSHE</th>\n",
       "      <td>1417.0</td>\n",
       "      <td>1257.0</td>\n",
       "    </tr>\n",
       "    <tr>\n",
       "      <th>000038.XSHE</th>\n",
       "      <td>1447.0</td>\n",
       "      <td>1227.0</td>\n",
       "    </tr>\n",
       "    <tr>\n",
       "      <th>600817.XSHG</th>\n",
       "      <td>1484.0</td>\n",
       "      <td>1190.0</td>\n",
       "    </tr>\n",
       "    <tr>\n",
       "      <th>...</th>\n",
       "      <td>...</td>\n",
       "      <td>...</td>\n",
       "    </tr>\n",
       "    <tr>\n",
       "      <th>002903.XSHE</th>\n",
       "      <td>2673.0</td>\n",
       "      <td>1.0</td>\n",
       "    </tr>\n",
       "    <tr>\n",
       "      <th>601611.XSHG</th>\n",
       "      <td>2673.0</td>\n",
       "      <td>1.0</td>\n",
       "    </tr>\n",
       "    <tr>\n",
       "      <th>603798.XSHG</th>\n",
       "      <td>2673.0</td>\n",
       "      <td>1.0</td>\n",
       "    </tr>\n",
       "    <tr>\n",
       "      <th>603839.XSHG</th>\n",
       "      <td>2673.0</td>\n",
       "      <td>1.0</td>\n",
       "    </tr>\n",
       "    <tr>\n",
       "      <th>603098.XSHG</th>\n",
       "      <td>2673.0</td>\n",
       "      <td>1.0</td>\n",
       "    </tr>\n",
       "  </tbody>\n",
       "</table>\n",
       "<p>3065 rows × 2 columns</p>\n",
       "</div>"
      ],
      "text/plain": [
       "              False   True \n",
       "000693.XSHE   859.0  1815.0\n",
       "600145.XSHG  1343.0  1331.0\n",
       "000670.XSHE  1417.0  1257.0\n",
       "000038.XSHE  1447.0  1227.0\n",
       "600817.XSHG  1484.0  1190.0\n",
       "...             ...     ...\n",
       "002903.XSHE  2673.0     1.0\n",
       "601611.XSHG  2673.0     1.0\n",
       "603798.XSHG  2673.0     1.0\n",
       "603839.XSHG  2673.0     1.0\n",
       "603098.XSHG  2673.0     1.0\n",
       "\n",
       "[3065 rows x 2 columns]"
      ]
     },
     "execution_count": 132,
     "metadata": {},
     "output_type": "execute_result"
    }
   ],
   "source": [
    "suspend_df = suspend_df[~suspend_df[True].isnull()].sort_values(by=True,ascending=False)\n",
    "suspend_df"
   ]
  },
  {
   "cell_type": "markdown",
   "metadata": {},
   "source": [
    "3065 out of 4560 stocks were suspended at least for one day in the period."
   ]
  },
  {
   "cell_type": "markdown",
   "metadata": {},
   "source": [
    "### Unify stock codes that are used in Alphalens"
   ]
  },
  {
   "cell_type": "code",
   "execution_count": 166,
   "metadata": {},
   "outputs": [],
   "source": [
    "st_stocklist = st_df.index.to_list()\n",
    "# subset the stocks with more than 365 days being suspended\n",
    "suspend_stocklist = suspend_df[suspend_df[True]>365].index.to_list()"
   ]
  },
  {
   "cell_type": "code",
   "execution_count": 167,
   "metadata": {},
   "outputs": [],
   "source": [
    "no_st_code = list(set(normalized_code) - set(st_stocklist))\n",
    "less_1k_suspend_code = list(set(normalized_code) - set(suspend_stocklist))\n",
    "codes = list(set(no_st_code) & set(less_1k_suspend_code))"
   ]
  },
  {
   "cell_type": "code",
   "execution_count": 168,
   "metadata": {},
   "outputs": [
    {
     "data": {
      "text/plain": [
       "3957"
      ]
     },
     "execution_count": 168,
     "metadata": {},
     "output_type": "execute_result"
    }
   ],
   "source": [
    "len(codes)"
   ]
  },
  {
   "cell_type": "code",
   "execution_count": 173,
   "metadata": {},
   "outputs": [],
   "source": [
    "backtest_price_data = pd.read_hdf('10-year non-ST price data.h5')\n",
    "backtest_price_data = backtest_price_data.fillna(method='ffill')\n",
    "backtest_price_data.columns = [normalize_code(name) for name in backtest_price_data.columns]\n",
    "\n",
    "# get the intersection of codes between factor data and price data\n",
    "codes = list(set(codes) & set(backtest_price_data.columns))"
   ]
  },
  {
   "cell_type": "code",
   "execution_count": 172,
   "metadata": {},
   "outputs": [
    {
     "data": {
      "text/plain": [
       "2183"
      ]
     },
     "execution_count": 172,
     "metadata": {},
     "output_type": "execute_result"
    }
   ],
   "source": [
    "len(stock_codes)"
   ]
  },
  {
   "cell_type": "markdown",
   "metadata": {},
   "source": [
    "### Store factor data in h5 files locally"
   ]
  },
  {
   "cell_type": "code",
   "execution_count": 180,
   "metadata": {},
   "outputs": [
    {
     "ename": "QuotaExceeded",
     "evalue": "Quota exceeded",
     "output_type": "error",
     "traceback": [
      "\u001b[1;31m---------------------------------------------------------------------------\u001b[0m",
      "\u001b[1;31mQuotaExceeded\u001b[0m                             Traceback (most recent call last)",
      "\u001b[1;32m<ipython-input-180-b5c45e017377>\u001b[0m in \u001b[0;36m<module>\u001b[1;34m\u001b[0m\n\u001b[0;32m      2\u001b[0m \u001b[1;33m\u001b[0m\u001b[0m\n\u001b[0;32m      3\u001b[0m \u001b[1;31m#市净率\u001b[0m\u001b[1;33m\u001b[0m\u001b[1;33m\u001b[0m\u001b[1;33m\u001b[0m\u001b[0m\n\u001b[1;32m----> 4\u001b[1;33m \u001b[0mpb\u001b[0m \u001b[1;33m=\u001b[0m \u001b[0mrq\u001b[0m\u001b[1;33m.\u001b[0m\u001b[0mget_factor\u001b[0m\u001b[1;33m(\u001b[0m\u001b[0mcodes\u001b[0m\u001b[1;33m,\u001b[0m\u001b[1;34m'pb_ratio_ttm'\u001b[0m\u001b[1;33m,\u001b[0m\u001b[1;34m'20101221'\u001b[0m\u001b[1;33m,\u001b[0m\u001b[1;34m'20201231'\u001b[0m\u001b[1;33m)\u001b[0m\u001b[1;33m\u001b[0m\u001b[1;33m\u001b[0m\u001b[0m\n\u001b[0m\u001b[0;32m      5\u001b[0m \u001b[1;31m#净资产收益率\u001b[0m\u001b[1;33m\u001b[0m\u001b[1;33m\u001b[0m\u001b[1;33m\u001b[0m\u001b[0m\n\u001b[0;32m      6\u001b[0m \u001b[0mroe\u001b[0m \u001b[1;33m=\u001b[0m \u001b[0mrq\u001b[0m\u001b[1;33m.\u001b[0m\u001b[0mget_factor\u001b[0m\u001b[1;33m(\u001b[0m\u001b[0mcodes\u001b[0m\u001b[1;33m,\u001b[0m\u001b[1;34m'return_on_equity_ttm'\u001b[0m\u001b[1;33m,\u001b[0m\u001b[1;34m'20101221'\u001b[0m\u001b[1;33m,\u001b[0m\u001b[1;34m'20201231'\u001b[0m\u001b[1;33m)\u001b[0m\u001b[1;33m\u001b[0m\u001b[1;33m\u001b[0m\u001b[0m\n",
      "\u001b[1;32m~\\anaconda3\\lib\\site-packages\\rqdatac\\services\\factor.py\u001b[0m in \u001b[0;36mget_factor\u001b[1;34m(order_book_ids, factor, start_date, end_date, universe, expect_df, **kwargs)\u001b[0m\n\u001b[0;32m     93\u001b[0m                 )\n\u001b[0;32m     94\u001b[0m \u001b[1;33m\u001b[0m\u001b[0m\n\u001b[1;32m---> 95\u001b[1;33m     data = get_client().execute(\n\u001b[0m\u001b[0;32m     96\u001b[0m         \u001b[1;34m\"get_factor_from_store\"\u001b[0m\u001b[1;33m,\u001b[0m \u001b[0morder_book_ids\u001b[0m\u001b[1;33m,\u001b[0m \u001b[0mfactor\u001b[0m\u001b[1;33m,\u001b[0m \u001b[0mstart_date\u001b[0m\u001b[1;33m,\u001b[0m \u001b[0mend_date\u001b[0m\u001b[1;33m,\u001b[0m \u001b[0muniverse\u001b[0m\u001b[1;33m=\u001b[0m\u001b[0muniverse\u001b[0m\u001b[1;33m\u001b[0m\u001b[1;33m\u001b[0m\u001b[0m\n\u001b[0;32m     97\u001b[0m     )\n",
      "\u001b[1;32m~\\anaconda3\\lib\\site-packages\\rqdatac\\decorators.py\u001b[0m in \u001b[0;36mwrap\u001b[1;34m(*args, **kwargs)\u001b[0m\n\u001b[0;32m     65\u001b[0m             \u001b[1;32mwhile\u001b[0m \u001b[0mc\u001b[0m \u001b[1;33m>\u001b[0m \u001b[1;36m0\u001b[0m\u001b[1;33m:\u001b[0m\u001b[1;33m\u001b[0m\u001b[1;33m\u001b[0m\u001b[0m\n\u001b[0;32m     66\u001b[0m                 \u001b[1;32mtry\u001b[0m\u001b[1;33m:\u001b[0m\u001b[1;33m\u001b[0m\u001b[1;33m\u001b[0m\u001b[0m\n\u001b[1;32m---> 67\u001b[1;33m                     \u001b[1;32mreturn\u001b[0m \u001b[0mfunc\u001b[0m\u001b[1;33m(\u001b[0m\u001b[1;33m*\u001b[0m\u001b[0margs\u001b[0m\u001b[1;33m,\u001b[0m \u001b[1;33m**\u001b[0m\u001b[0mkwargs\u001b[0m\u001b[1;33m)\u001b[0m\u001b[1;33m\u001b[0m\u001b[1;33m\u001b[0m\u001b[0m\n\u001b[0m\u001b[0;32m     68\u001b[0m                 \u001b[1;32mexcept\u001b[0m \u001b[0msuppress_exceptions\u001b[0m \u001b[1;32mas\u001b[0m \u001b[0me\u001b[0m\u001b[1;33m:\u001b[0m\u001b[1;33m\u001b[0m\u001b[1;33m\u001b[0m\u001b[0m\n\u001b[0;32m     69\u001b[0m                     \u001b[0mc\u001b[0m \u001b[1;33m-=\u001b[0m \u001b[1;36m1\u001b[0m\u001b[1;33m\u001b[0m\u001b[1;33m\u001b[0m\u001b[0m\n",
      "\u001b[1;32m~\\anaconda3\\lib\\site-packages\\rqdatac\\thread_local.py\u001b[0m in \u001b[0;36mexecute\u001b[1;34m(self, method, *args, **kwargs)\u001b[0m\n\u001b[0;32m     40\u001b[0m     \u001b[1;33m@\u001b[0m\u001b[0mretry\u001b[0m\u001b[1;33m(\u001b[0m\u001b[1;36m3\u001b[0m\u001b[1;33m,\u001b[0m \u001b[0msuppress_exceptions\u001b[0m\u001b[1;33m=\u001b[0m\u001b[1;33m(\u001b[0m\u001b[0mconnection_error\u001b[0m\u001b[1;33m,\u001b[0m \u001b[0mGatewayError\u001b[0m\u001b[1;33m,\u001b[0m \u001b[0mtimeout_error\u001b[0m\u001b[1;33m,\u001b[0m \u001b[0msocket\u001b[0m\u001b[1;33m.\u001b[0m\u001b[0mtimeout\u001b[0m\u001b[1;33m)\u001b[0m\u001b[1;33m)\u001b[0m\u001b[1;33m\u001b[0m\u001b[1;33m\u001b[0m\u001b[0m\n\u001b[0;32m     41\u001b[0m     \u001b[1;32mdef\u001b[0m \u001b[0mexecute\u001b[0m\u001b[1;33m(\u001b[0m\u001b[0mself\u001b[0m\u001b[1;33m,\u001b[0m \u001b[0mmethod\u001b[0m\u001b[1;33m,\u001b[0m \u001b[1;33m*\u001b[0m\u001b[0margs\u001b[0m\u001b[1;33m,\u001b[0m \u001b[1;33m**\u001b[0m\u001b[0mkwargs\u001b[0m\u001b[1;33m)\u001b[0m\u001b[1;33m:\u001b[0m\u001b[1;33m\u001b[0m\u001b[1;33m\u001b[0m\u001b[0m\n\u001b[1;32m---> 42\u001b[1;33m         \u001b[1;32mreturn\u001b[0m \u001b[0mself\u001b[0m\u001b[1;33m.\u001b[0m\u001b[0m_execute\u001b[0m\u001b[1;33m(\u001b[0m\u001b[0mself\u001b[0m\u001b[1;33m.\u001b[0m\u001b[0m_get_connection\u001b[0m\u001b[1;33m(\u001b[0m\u001b[1;33m)\u001b[0m\u001b[1;33m,\u001b[0m \u001b[0mmethod\u001b[0m\u001b[1;33m,\u001b[0m \u001b[0margs\u001b[0m\u001b[1;33m,\u001b[0m \u001b[0mkwargs\u001b[0m\u001b[1;33m)\u001b[0m\u001b[1;33m\u001b[0m\u001b[1;33m\u001b[0m\u001b[0m\n\u001b[0m\u001b[0;32m     43\u001b[0m \u001b[1;33m\u001b[0m\u001b[0m\n\u001b[0;32m     44\u001b[0m     \u001b[1;33m@\u001b[0m\u001b[0mretry\u001b[0m\u001b[1;33m(\u001b[0m\u001b[1;36m3\u001b[0m\u001b[1;33m,\u001b[0m \u001b[0msuppress_exceptions\u001b[0m\u001b[1;33m=\u001b[0m\u001b[1;33m(\u001b[0m\u001b[0mconnection_error\u001b[0m\u001b[1;33m,\u001b[0m \u001b[0mGatewayError\u001b[0m\u001b[1;33m)\u001b[0m\u001b[1;33m)\u001b[0m\u001b[1;33m\u001b[0m\u001b[1;33m\u001b[0m\u001b[0m\n",
      "\u001b[1;32m~\\anaconda3\\lib\\site-packages\\rqdatac\\thread_local.py\u001b[0m in \u001b[0;36m_execute\u001b[1;34m(self, conn, method, args, kwargs)\u001b[0m\n\u001b[0;32m     36\u001b[0m                 \u001b[0mself\u001b[0m\u001b[1;33m.\u001b[0m\u001b[0mreset\u001b[0m\u001b[1;33m(\u001b[0m\u001b[1;33m)\u001b[0m\u001b[1;33m\u001b[0m\u001b[1;33m\u001b[0m\u001b[0m\n\u001b[0;32m     37\u001b[0m                 \u001b[0mconn\u001b[0m\u001b[1;33m.\u001b[0m\u001b[0mclose\u001b[0m\u001b[1;33m(\u001b[0m\u001b[1;33m)\u001b[0m\u001b[1;33m\u001b[0m\u001b[1;33m\u001b[0m\u001b[0m\n\u001b[1;32m---> 38\u001b[1;33m             \u001b[1;32mraise\u001b[0m \u001b[0me\u001b[0m\u001b[1;33m\u001b[0m\u001b[1;33m\u001b[0m\u001b[0m\n\u001b[0m\u001b[0;32m     39\u001b[0m \u001b[1;33m\u001b[0m\u001b[0m\n\u001b[0;32m     40\u001b[0m     \u001b[1;33m@\u001b[0m\u001b[0mretry\u001b[0m\u001b[1;33m(\u001b[0m\u001b[1;36m3\u001b[0m\u001b[1;33m,\u001b[0m \u001b[0msuppress_exceptions\u001b[0m\u001b[1;33m=\u001b[0m\u001b[1;33m(\u001b[0m\u001b[0mconnection_error\u001b[0m\u001b[1;33m,\u001b[0m \u001b[0mGatewayError\u001b[0m\u001b[1;33m,\u001b[0m \u001b[0mtimeout_error\u001b[0m\u001b[1;33m,\u001b[0m \u001b[0msocket\u001b[0m\u001b[1;33m.\u001b[0m\u001b[0mtimeout\u001b[0m\u001b[1;33m)\u001b[0m\u001b[1;33m)\u001b[0m\u001b[1;33m\u001b[0m\u001b[1;33m\u001b[0m\u001b[0m\n",
      "\u001b[1;32m~\\anaconda3\\lib\\site-packages\\rqdatac\\thread_local.py\u001b[0m in \u001b[0;36m_execute\u001b[1;34m(self, conn, method, args, kwargs)\u001b[0m\n\u001b[0;32m     31\u001b[0m     \u001b[1;32mdef\u001b[0m \u001b[0m_execute\u001b[0m\u001b[1;33m(\u001b[0m\u001b[0mself\u001b[0m\u001b[1;33m,\u001b[0m \u001b[0mconn\u001b[0m\u001b[1;33m,\u001b[0m \u001b[0mmethod\u001b[0m\u001b[1;33m,\u001b[0m \u001b[0margs\u001b[0m\u001b[1;33m,\u001b[0m \u001b[0mkwargs\u001b[0m\u001b[1;33m)\u001b[0m\u001b[1;33m:\u001b[0m\u001b[1;33m\u001b[0m\u001b[1;33m\u001b[0m\u001b[0m\n\u001b[0;32m     32\u001b[0m         \u001b[1;32mtry\u001b[0m\u001b[1;33m:\u001b[0m\u001b[1;33m\u001b[0m\u001b[1;33m\u001b[0m\u001b[0m\n\u001b[1;32m---> 33\u001b[1;33m             \u001b[1;32mreturn\u001b[0m \u001b[0mconn\u001b[0m\u001b[1;33m.\u001b[0m\u001b[0mexecute\u001b[0m\u001b[1;33m(\u001b[0m\u001b[0mmethod\u001b[0m\u001b[1;33m,\u001b[0m \u001b[1;33m*\u001b[0m\u001b[0margs\u001b[0m\u001b[1;33m,\u001b[0m \u001b[1;33m**\u001b[0m\u001b[0mkwargs\u001b[0m\u001b[1;33m)\u001b[0m\u001b[1;33m\u001b[0m\u001b[1;33m\u001b[0m\u001b[0m\n\u001b[0m\u001b[0;32m     34\u001b[0m         \u001b[1;32mexcept\u001b[0m \u001b[1;33m(\u001b[0m\u001b[0mKeyboardInterrupt\u001b[0m\u001b[1;33m,\u001b[0m \u001b[0mException\u001b[0m\u001b[1;33m)\u001b[0m \u001b[1;32mas\u001b[0m \u001b[0me\u001b[0m\u001b[1;33m:\u001b[0m\u001b[1;33m\u001b[0m\u001b[1;33m\u001b[0m\u001b[0m\n\u001b[0;32m     35\u001b[0m             \u001b[1;32mif\u001b[0m \u001b[1;32mnot\u001b[0m \u001b[0misinstance\u001b[0m\u001b[1;33m(\u001b[0m\u001b[0me\u001b[0m\u001b[1;33m,\u001b[0m \u001b[1;33m(\u001b[0m\u001b[0mErrorFromBackend\u001b[0m\u001b[1;33m,\u001b[0m \u001b[0mGatewayError\u001b[0m\u001b[1;33m)\u001b[0m\u001b[1;33m)\u001b[0m\u001b[1;33m:\u001b[0m\u001b[1;33m\u001b[0m\u001b[1;33m\u001b[0m\u001b[0m\n",
      "\u001b[1;32m~\\anaconda3\\lib\\site-packages\\rqdatac\\connection.cp38-win_amd64.pyd\u001b[0m in \u001b[0;36mrqdatac.connection.Connection.execute\u001b[1;34m()\u001b[0m\n",
      "\u001b[1;32m~\\anaconda3\\lib\\site-packages\\rqdatac\\connection.cp38-win_amd64.pyd\u001b[0m in \u001b[0;36mrqdatac.connection.Connection._read_one_packet\u001b[1;34m()\u001b[0m\n",
      "\u001b[1;31mQuotaExceeded\u001b[0m: Quota exceeded"
     ]
    }
   ],
   "source": [
    "# all in ttm, not lyr 全部12个月滚动指标\n",
    "\n",
    "#市净率\n",
    "pb = rq.get_factor(codes,'pb_ratio_ttm','20101221','20201231') \n",
    "#净资产收益率\n",
    "roe = rq.get_factor(codes,'return_on_equity_ttm','20101221','20201231') \n",
    "#总市值\n",
    "mkt_cap = rq.get_factor(codes,'market_cap_3','20101221','20201231')\n",
    "#股息率\n",
    "dividend_yield = rq.get_factor(codes,'dividend_yield_ttm','20101221','20201231')\n",
    "#账面市值比\n",
    "bm = rq.get_factor(codes,'book_to_market_ratio_ttm','20101221','20201231') \n",
    "#三日平均换手率\n",
    "vol3 = rq.get_factor(codes,'VOL3','20101221','20201231') "
   ]
  },
  {
   "cell_type": "code",
   "execution_count": null,
   "metadata": {},
   "outputs": [],
   "source": [
    "pb.to_hdf('pb.h5', key='factor')\n",
    "roe.to_hdf('roe.h5',key='factor')\n",
    "mkt_cap.to_hdf('mkt_cap.h5',key='factor')\n",
    "dividend_yield.to_hdf('dividend yield.h5', key='factor')\n",
    "bm.to_hdf('bm.h5',key='factor')\n",
    "vol3.to_hdf('vol3.h5',key='factor')"
   ]
  },
  {
   "cell_type": "markdown",
   "metadata": {},
   "source": []
  },
  {
   "cell_type": "code",
   "execution_count": null,
   "metadata": {},
   "outputs": [],
   "source": []
  }
 ],
 "metadata": {
  "kernelspec": {
   "display_name": "Python 3",
   "language": "python",
   "name": "python3"
  },
  "language_info": {
   "codemirror_mode": {
    "name": "ipython",
    "version": 3
   },
   "file_extension": ".py",
   "mimetype": "text/x-python",
   "name": "python",
   "nbconvert_exporter": "python",
   "pygments_lexer": "ipython3",
   "version": "3.8.5"
  }
 },
 "nbformat": 4,
 "nbformat_minor": 4
}
