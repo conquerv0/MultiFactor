{
 "cells": [
  {
   "cell_type": "code",
   "execution_count": null,
   "id": "5ba0f5e8",
   "metadata": {},
   "outputs": [],
   "source": [
    "import Dataloader_ricequant as dl\n",
    "import os"
   ]
  },
  {
   "cell_type": "code",
   "execution_count": null,
   "id": "1cc8e043",
   "metadata": {},
   "outputs": [],
   "source": [
    "DATAPATH = './data/' #seperating raw and processed data\n",
    "stock_path = DATAPATH + 'stock_data/'\n",
    "csv_names = os.listdir(path=stock_path)\n",
    "industry_codes = [f'A0{i}' for i in range(1, 6)] + [f'B0{i}' for i in range(6, 10)] + [f'B{i}' for i in range(10, 13)] \\\n",
    "    + [f'C{i}' for i in range(13, 44)] + [f'D{i}' for i in range(44, 47)] + [f'E{i}' for i in range(47, 51)] \\\n",
    "    + ['F51', 'F52'] + [f'G{i}' for i in range(53, 61)] + ['H61', 'H62'] + [f'I{i}' for i in range(63, 66)] + \\\n",
    "    [f'J{i}' for i in range(66, 70)] + ['K70'] + ['L71', 'L72'] + [f'M{i}' for i in range(73, 76)] + \\\n",
    "    [f'N{i}' for i in range(76, 79)] + [f'O{i}' for i in range(79, 82)] + ['P82'] + ['Q83', 'Q84'] + \\\n",
    "    [f'R{i}' for i in range(85, 90)] + ['S90']"
   ]
  },
  {
   "cell_type": "code",
   "execution_count": null,
   "id": "603c1312",
   "metadata": {},
   "outputs": [],
   "source": [
    "#backtesting timeframe\n",
    "START_DATE = '20110101'\n",
    "END_DATE = '20201231'"
   ]
  },
  {
   "cell_type": "code",
   "execution_count": null,
   "id": "9faa14c8",
   "metadata": {},
   "outputs": [],
   "source": [
    "INDEX_COLS = ['date', 'stock']\n",
    "TEST_FACTORS = ['PE_TTM', 'PS_TTM', 'PC_TTM', 'PB']\n",
    "BASIC_INFO_COLS = TEST_FACTORS + ['market_value', 'open', 'close']\n",
    "RQ_FACTORS = ['pb_ratio_ttm', \n",
    "                'return_on_equity_ttm', \n",
    "                'market_cap_3', \n",
    "                'dividend_yield_ttm', \n",
    "                'book_to_market_ratio_ttm', \n",
    "                'VOL3']"
   ]
  }
 ],
 "metadata": {
  "jupytext": {
   "cell_metadata_filter": "-all",
   "main_language": "python",
   "notebook_metadata_filter": "-all"
  }
 },
 "nbformat": 4,
 "nbformat_minor": 5
}
