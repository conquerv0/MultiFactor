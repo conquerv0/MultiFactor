{
 "cells": [
  {
   "cell_type": "code",
   "execution_count": null,
   "id": "90301d53",
   "metadata": {},
   "outputs": [],
   "source": [
    "import numpy as np\n",
    "import pandas as pd\n",
    "import statsmodels.api as sm\n",
    "import os\n",
    "from datetime import datetime, timedelta\n",
    "\n",
    "import rqdatac as rq\n",
    "import alphalens as al"
   ]
  },
  {
   "cell_type": "markdown",
   "id": "1dddc193",
   "metadata": {},
   "source": [
    "\n",
    "## Single Factor Testing using Alphalens"
   ]
  },
  {
   "cell_type": "markdown",
   "id": "02e630fd",
   "metadata": {},
   "source": [
    "#### Sector Classification"
   ]
  },
  {
   "cell_type": "code",
   "execution_count": null,
   "id": "7eca8c10",
   "metadata": {},
   "outputs": [],
   "source": [
    "# MSCI全球标准行业分类\n",
    "sectors = ['Energy','Materials','ConsumerDiscretionary','ConsumerStaples',\n",
    "          'HealthCare','Financials','RealEstate','InformationTechnology',\n",
    "          'TelecommunicationServices','Utilities','Industrials']\n",
    "sector_names = {'Energy':'能源','Materials':'原材料','ConsumerDiscretionary':'非必须消费品',\n",
    "               'ConsumerStaples':'必需消费品','HealthCare':'医疗保健','Financials':'金融',\n",
    "               'RealEstate':'房地产','InformationTechnology':'信息技术',\n",
    "                'TelecommunicationServices':'电信服务','Utilities':'公共服务',\n",
    "                'Industrials':'工业'}\n",
    "\n",
    "sector_dict = {sector:rq.sector(sector) for sector in sectors}\n",
    "code_dict = {}\n",
    "for k, v in sector_dict.items():\n",
    "    for code in v:\n",
    "        code_dict[code] = k"
   ]
  },
  {
   "cell_type": "markdown",
   "id": "8124ab91",
   "metadata": {},
   "source": [
    "#### Import price data and factor data"
   ]
  },
  {
   "cell_type": "code",
   "execution_count": null,
   "id": "6bdde253",
   "metadata": {},
   "outputs": [],
   "source": [
    "backtest_price_data = pd.read_hdf('10-year non-ST price data.h5')\n",
    "backtest_price_data = backtest_price_data.fillna(method='ffill')"
   ]
  },
  {
   "cell_type": "code",
   "execution_count": null,
   "id": "ad9ca2f7",
   "metadata": {},
   "outputs": [],
   "source": []
  },
  {
   "cell_type": "code",
   "execution_count": null,
   "id": "fcae933d",
   "metadata": {},
   "outputs": [],
   "source": [
    "roe = pd.read_hdf('roe.h5').reset_index().set_index(['date','order_book_id']).fillna(method='ffill')"
   ]
  },
  {
   "cell_type": "code",
   "execution_count": null,
   "id": "360d59af",
   "metadata": {},
   "outputs": [],
   "source": [
    "pb = pd.read_hdf('pb.h5').reset_index().set_index(['date','order_book_id']).fillna(method='ffill')"
   ]
  },
  {
   "cell_type": "code",
   "execution_count": null,
   "id": "5f423257",
   "metadata": {},
   "outputs": [],
   "source": [
    "mkt_cap = pd.read_hdf('mkt_cap.h5').reset_index().set_index(['date','order_book_id']).fillna(method='ffill')"
   ]
  },
  {
   "cell_type": "code",
   "execution_count": null,
   "id": "74fb946a",
   "metadata": {},
   "outputs": [],
   "source": [
    "vol3 = pd.read_hdf('vol3.h5').reset_index().set_index(['date','order_book_id']).fillna(method='ffill')"
   ]
  },
  {
   "cell_type": "code",
   "execution_count": null,
   "id": "ee03b558",
   "metadata": {},
   "outputs": [],
   "source": [
    "stock_codes = list(set(roe.index.get_level_values(1)))\n",
    "backtest_price_data = backtest_price_data[stock_codes]\n",
    "ticker_sector = {key: value for key, value in code_dict.items() if key in stock_codes}"
   ]
  },
  {
   "cell_type": "markdown",
   "id": "4b51dcb9",
   "metadata": {},
   "source": []
  },
  {
   "cell_type": "code",
   "execution_count": null,
   "id": "010a061d",
   "metadata": {},
   "outputs": [],
   "source": [
    "pb_factor_data = al.utils.get_clean_factor_and_forward_returns(factor=pb,\n",
    "                                                               prices=backtest_price_data,\n",
    "                                                               periods=(1,5,10),\n",
    "                                                               max_loss=0.4,\n",
    "                                                               groupby_labels=sector_names,\n",
    "                                                               groupby=ticker_sector)"
   ]
  },
  {
   "cell_type": "code",
   "execution_count": null,
   "id": "167e5b3a",
   "metadata": {},
   "outputs": [],
   "source": [
    "roe_factor_data = al.utils.get_clean_factor_and_forward_returns(factor=roe,\n",
    "                                                               prices=backtest_price_data,\n",
    "                                                               periods=(1,5,10), max_loss=0.4)"
   ]
  },
  {
   "cell_type": "code",
   "execution_count": null,
   "id": "239f6ced",
   "metadata": {},
   "outputs": [],
   "source": [
    "mkt_cap_factor_data = al.utils.get_clean_factor_and_forward_returns(factor=mkt_cap,\n",
    "                                                                   prices=backtest_price_data,\n",
    "                                                                   periods=(1,5,10), max_loss=0.4)"
   ]
  },
  {
   "cell_type": "code",
   "execution_count": null,
   "id": "4f4909e2",
   "metadata": {},
   "outputs": [],
   "source": [
    "vol3_factor_data = al.utils.get_clean_factor_and_forward_returns(factor=vol3,\n",
    "                                                                   prices=backtest_price_data,\n",
    "                                                                   periods=(1,5,10), max_loss=0.4)"
   ]
  },
  {
   "cell_type": "code",
   "execution_count": null,
   "id": "d1667809",
   "metadata": {},
   "outputs": [],
   "source": [
    "al.tears.create_returns_tear_sheet(factor_data=roe_factor_data)"
   ]
  },
  {
   "cell_type": "code",
   "execution_count": null,
   "id": "285398ff",
   "metadata": {},
   "outputs": [],
   "source": [
    "al.tears.create_returns_tear_sheet(factor_data=mkt_cap_factor_data)"
   ]
  },
  {
   "cell_type": "code",
   "execution_count": null,
   "id": "5d88cf68",
   "metadata": {},
   "outputs": [],
   "source": [
    "al.tears.create_returns_tear_sheet(factor_data=vol3_factor_data)"
   ]
  },
  {
   "cell_type": "code",
   "execution_count": null,
   "id": "c7f31bcc",
   "metadata": {},
   "outputs": [],
   "source": [
    "al.tears.create_information_tear_sheet(factor_data=roe_factor_data)"
   ]
  },
  {
   "cell_type": "code",
   "execution_count": null,
   "id": "24d11f43",
   "metadata": {},
   "outputs": [],
   "source": [
    "al.tears.create_turnover_tear_sheet(factor_data=roe_factor_data,\n",
    "                                   turnover_periods=['1D','5D','10D'])"
   ]
  },
  {
   "cell_type": "code",
   "execution_count": null,
   "id": "6ee99e2c",
   "metadata": {},
   "outputs": [],
   "source": [
    "al.tears.create_returns_tear_sheet(factor_data=pb_factor_data)"
   ]
  },
  {
   "cell_type": "code",
   "execution_count": null,
   "id": "583339c8",
   "metadata": {},
   "outputs": [],
   "source": [
    "al.tears.create_information_tear_sheet(factor_data=pb_factor_data)"
   ]
  },
  {
   "cell_type": "code",
   "execution_count": null,
   "id": "700924ef",
   "metadata": {},
   "outputs": [],
   "source": [
    "al.tears.create_turnover_tear_sheet(factor_data=pb_factor_data,turnover_periods=['1D','5D','10D'])"
   ]
  },
  {
   "cell_type": "markdown",
   "id": "a197eae8",
   "metadata": {},
   "source": []
  }
 ],
 "metadata": {
  "jupytext": {
   "encoding": "# -*- coding: utf-8 -*-"
  },
  "kernelspec": {
   "display_name": "Python 3",
   "language": "python",
   "name": "python3"
  }
 },
 "nbformat": 4,
 "nbformat_minor": 5
}
