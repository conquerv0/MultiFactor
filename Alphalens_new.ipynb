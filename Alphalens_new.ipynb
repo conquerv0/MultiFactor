{
 "cells": [
  {
   "cell_type": "markdown",
   "id": "153b3cce",
   "metadata": {},
   "source": [
    "using newly pre-processed dataset"
   ]
  },
  {
   "cell_type": "code",
   "execution_count": null,
   "id": "8e6cc726",
   "metadata": {},
   "outputs": [],
   "source": [
    "df = pd.read_hdf(DATAPATH + 'stock_factor_data.h5')\n",
    "df"
   ]
  },
  {
   "cell_type": "code",
   "execution_count": null,
   "id": "f975a59c",
   "metadata": {},
   "outputs": [],
   "source": [
    "pe_ttm = df['PE_TTM'].to_frame()\n",
    "ps_ttm = df['PS_TTM'].to_frame()\n",
    "pc_ttm = df['PC_TTM'].to_frame()\n",
    "pb = df['PB'].to_frame()\n",
    "pb"
   ]
  },
  {
   "cell_type": "code",
   "execution_count": null,
   "id": "544c9b31",
   "metadata": {},
   "outputs": [],
   "source": [
    "price = df['close'].unstack()\n",
    "price"
   ]
  },
  {
   "cell_type": "code",
   "execution_count": null,
   "id": "ebe1816f",
   "metadata": {},
   "outputs": [],
   "source": [
    "indus = df['pri_indus_code']\n",
    "indus"
   ]
  },
  {
   "cell_type": "code",
   "execution_count": null,
   "id": "a4e7d972",
   "metadata": {},
   "outputs": [],
   "source": [
    "pb_cleaned = al.utils.get_clean_factor_and_forward_returns(factor = pb,\n",
    "prices = price,\n",
    "groupby = indus,\n",
    "binning_by_group=True,\n",
    "quantiles=5)"
   ]
  },
  {
   "cell_type": "code",
   "execution_count": null,
   "id": "c9f45080",
   "metadata": {},
   "outputs": [],
   "source": [
    "al.tears.create_returns_tear_sheet(pb_cleaned,group_neutral=True,by_group=True,long_short=True)"
   ]
  },
  {
   "cell_type": "code",
   "execution_count": null,
   "id": "8f859c97",
   "metadata": {},
   "outputs": [],
   "source": [
    "al.tears.create_returns_tear_sheet(pb_cleaned)"
   ]
  },
  {
   "cell_type": "code",
   "execution_count": null,
   "id": "2a265996",
   "metadata": {},
   "outputs": [],
   "source": [
    "al.tears.create_information_tear_sheet(pb_cleaned,group_neutral=True,by_group=True)"
   ]
  },
  {
   "cell_type": "code",
   "execution_count": null,
   "id": "5a461ac6",
   "metadata": {},
   "outputs": [],
   "source": [
    "al.tears.create_information_tear_sheet(factor_data=pb_cleaned)"
   ]
  },
  {
   "cell_type": "code",
   "execution_count": null,
   "id": "467d772f",
   "metadata": {},
   "outputs": [],
   "source": [
    "al.tears.create_turnover_tear_sheet(factor_data=pb_cleaned,turnover_periods=['21D','45D','96D'])"
   ]
  }
 ],
 "metadata": {
  "kernelspec": {
   "display_name": "Python 3.9.7 64-bit ('multifactor': conda)",
   "language": "python",
   "name": "python3"
  }
 },
 "nbformat": 4,
 "nbformat_minor": 5
}
